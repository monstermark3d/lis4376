{
 "cells": [
  {
   "cell_type": "markdown",
   "id": "cf15b7ea-d100-4174-a3d2-64e155a99d58",
   "metadata": {},
   "source": [
    "# Assignment 2"
   ]
  },
  {
   "cell_type": "markdown",
   "id": "2eaefd08-97fb-45f2-b52d-96ef3d380039",
   "metadata": {},
   "source": [
    "#### **Developer:** Mark Trombly\n",
    "#### **Course:** Exploration into AI, Machine and Deep Learning\n",
    "#### **Program Requirements (data analysis and visualization steps):**\n",
    "~~~\n",
    "1. Get\n",
    "2. Clean\n",
    "3. Prepare\n",
    "4. Analyze\n",
    "5. Display/Visualize (preparation\n",
    "~~~\n",
    "#### **Note:** In each of the following examples. **BE SURE** to research the functions/properties/options indicated."
   ]
  },
  {
   "cell_type": "code",
   "execution_count": 1,
   "id": "da935c99-315a-4be0-907b-8dc3bf90459c",
   "metadata": {},
   "outputs": [],
   "source": [
    "# 1. import pandas (open source data analysis/science an AI package)\n",
    "import pandas as pd"
   ]
  },
  {
   "cell_type": "markdown",
   "id": "7743d527-e844-434b-bc39-81081153c17f",
   "metadata": {},
   "source": [
    "# Get Data"
   ]
  },
  {
   "cell_type": "code",
   "execution_count": 2,
   "id": "b5df35e1-a718-4241-a084-2f519d150735",
   "metadata": {},
   "outputs": [],
   "source": [
    "# 2. get mortality data: National Center for Health Statistics (NCHS childhood mortality rates)\n",
    "# info: https://data.cdc.gov/NCHS/NCHS-Childhood-Mortality-Rates/v6ab-adf5\n",
    "mortality_url = \"https://data.cdc.gov/api/views/v6ab-adf5/rows.csv\""
   ]
  },
  {
   "cell_type": "code",
   "execution_count": 3,
   "id": "a57ada7d-faad-41ab-80be-f452ed2d0e5e",
   "metadata": {},
   "outputs": [],
   "source": [
    "#3. read csv file indo DataFrame\n",
    "mortality_data = pd.read_csv(mortality_url)"
   ]
  },
  {
   "cell_type": "markdown",
   "id": "9af274e0-91b8-42c0-b256-5b593cc1b126",
   "metadata": {},
   "source": [
    "### Save DataFrame to pickle file"
   ]
  },
  {
   "cell_type": "code",
   "execution_count": 4,
   "id": "cfd478f0-277d-45e9-89cb-34fe4e9cbe4d",
   "metadata": {},
   "outputs": [],
   "source": [
    "#4. save DF to pickle file\n",
    "# Why?\n",
    "# https://\n",
    "mortality_data.to_pickle('mortality_data.pkl')"
   ]
  },
  {
   "cell_type": "code",
   "execution_count": 5,
   "id": "4d97fe5a-36ef-4873-b20f-e1c64ab13426",
   "metadata": {},
   "outputs": [],
   "source": [
    "#5. read pickle file\n",
    "# Note: Below, data in mortality_data variable changed--no longer csv data, now pickle data!\n",
    "mortality_data = pd.read_pickle('mortality_data.pkl')"
   ]
  },
  {
   "cell_type": "markdown",
   "id": "750c156c-be75-492a-a679-b6b629d47c3b",
   "metadata": {},
   "source": [
    "## (First - examine, then...), clean, prepare, analyze, and display data\n",
    "\n",
    "### Cleaning\n",
    "\n",
    "#### **Note:** Generally, the following items are done during *\"cleaning\"* process:\n",
    "~~~\n",
    "1. Drop duplicate rows\n",
    "2. Drop rows and columns not needed\n",
    "3. Rename columns\n",
    "~~~"
   ]
  },
  {
   "cell_type": "code",
   "execution_count": 6,
   "id": "e2e2ccba-7f04-4d2b-a414-7a5dce30397b",
   "metadata": {},
   "outputs": [
    {
     "name": "stdout",
     "output_type": "stream",
     "text": [
      "     Year    Age Group  Death Rate\n",
      "0    1900    1-4 Years      1983.8\n",
      "1    1901    1-4 Years      1695.0\n",
      "2    1902    1-4 Years      1655.7\n",
      "3    1903    1-4 Years      1542.1\n",
      "4    1904    1-4 Years      1591.5\n",
      "..    ...          ...         ...\n",
      "471  2014  15-19 Years        45.5\n",
      "472  2015  15-19 Years        48.3\n",
      "473  2016  15-19 Years        51.2\n",
      "474  2017  15-19 Years        51.5\n",
      "475  2018  15-19 Years        49.2\n",
      "\n",
      "[476 rows x 3 columns]\n"
     ]
    }
   ],
   "source": [
    "# ways to print an entire Pndas DataFrame:\n",
    "# https://www.geeksforgeeks.org/how-to-pring-an-entire-pandas-dataframe-in-python/\n",
    "# Or...\n",
    "# display Pandas DataFrame in table style:\n",
    "# https://www.geeksforgeeks.org/display-the-pandas-dataframe-in-table-style/\n",
    "# 6. Display first and last five rows with one command!\n",
    "# mortality_data # Note: *only* works in Jupyter Notebooks\n",
    "print(mortality_data)"
   ]
  },
  {
   "cell_type": "code",
   "execution_count": 7,
   "id": "f5bdc079-9335-423a-8f03-56b60e843688",
   "metadata": {},
   "outputs": [
    {
     "name": "stdout",
     "output_type": "stream",
     "text": [
      "   Year  Age Group  Death Rate\n",
      "0  1900  1-4 Years      1983.8\n",
      "1  1901  1-4 Years      1695.0\n",
      "2  1902  1-4 Years      1655.7\n",
      "3  1903  1-4 Years      1542.1\n",
      "4  1904  1-4 Years      1591.5\n"
     ]
    }
   ],
   "source": [
    "# 7. first 5 rows oly\n",
    "print(mortality_data.head())"
   ]
  },
  {
   "cell_type": "code",
   "execution_count": 8,
   "id": "963a4777-c0d9-4428-8856-5781badbf1e1",
   "metadata": {},
   "outputs": [
    {
     "data": {
      "text/html": [
       "<div>\n",
       "<style scoped>\n",
       "    .dataframe tbody tr th:only-of-type {\n",
       "        vertical-align: middle;\n",
       "    }\n",
       "\n",
       "    .dataframe tbody tr th {\n",
       "        vertical-align: top;\n",
       "    }\n",
       "\n",
       "    .dataframe thead th {\n",
       "        text-align: right;\n",
       "    }\n",
       "</style>\n",
       "<table border=\"1\" class=\"dataframe\">\n",
       "  <thead>\n",
       "    <tr style=\"text-align: right;\">\n",
       "      <th></th>\n",
       "      <th>Year</th>\n",
       "      <th>Age Group</th>\n",
       "      <th>Death Rate</th>\n",
       "    </tr>\n",
       "  </thead>\n",
       "  <tbody>\n",
       "    <tr>\n",
       "      <th>473</th>\n",
       "      <td>2016</td>\n",
       "      <td>15-19 Years</td>\n",
       "      <td>51.2</td>\n",
       "    </tr>\n",
       "    <tr>\n",
       "      <th>474</th>\n",
       "      <td>2017</td>\n",
       "      <td>15-19 Years</td>\n",
       "      <td>51.5</td>\n",
       "    </tr>\n",
       "    <tr>\n",
       "      <th>475</th>\n",
       "      <td>2018</td>\n",
       "      <td>15-19 Years</td>\n",
       "      <td>49.2</td>\n",
       "    </tr>\n",
       "  </tbody>\n",
       "</table>\n",
       "</div>"
      ],
      "text/plain": [
       "     Year    Age Group  Death Rate\n",
       "473  2016  15-19 Years        51.2\n",
       "474  2017  15-19 Years        51.5\n",
       "475  2018  15-19 Years        49.2"
      ]
     },
     "execution_count": 8,
     "metadata": {},
     "output_type": "execute_result"
    }
   ],
   "source": [
    "# 8. last 3 rows only\n",
    "mortality_data.tail(3)"
   ]
  },
  {
   "cell_type": "code",
   "execution_count": 9,
   "id": "387a981e-974e-42a6-9468-909ffe1c9b0b",
   "metadata": {},
   "outputs": [
    {
     "name": "stdout",
     "output_type": "stream",
     "text": [
      "     Year    Age Group  Death Rate\n",
      "0    1900    1-4 Years      1983.8\n",
      "1    1901    1-4 Years      1695.0\n",
      "2    1902    1-4 Years      1655.7\n",
      "..    ...          ...         ...\n",
      "473  2016  15-19 Years        51.2\n",
      "474  2017  15-19 Years        51.5\n",
      "475  2018  15-19 Years        49.2\n",
      "\n",
      "[476 rows x 3 columns]\n"
     ]
    }
   ],
   "source": [
    "# 9. using pandas option_context() function, display 6 rows (first 3 and last 3) and all cols (Note: using odd numbers doesn't appear to work)\n",
    "# Note: option_context() - executes codeblock with set of options that revert to prior settings after execution\n",
    "# Note: 'None' value for 'display.max_columns' property returns *all* cols.\n",
    "with pd.option_context(\n",
    "    'display.max_rows', 6,\n",
    "    'display.max_columns', None):\n",
    "    print(mortality_data)\n"
   ]
  },
  {
   "cell_type": "markdown",
   "id": "91f61582-bdde-4627-80b2-bae25218bb40",
   "metadata": {},
   "source": [
    "### Display DataFrame attributes"
   ]
  },
  {
   "cell_type": "code",
   "execution_count": 10,
   "id": "b4761261-9c85-445e-bac6-4f33cb12f319",
   "metadata": {},
   "outputs": [
    {
     "name": "stdout",
     "output_type": "stream",
     "text": [
      "Index:   RangeIndex(start=0, stop=476, step=1)\n",
      "Columns: Index(['Year', 'Age Group', 'Death Rate'], dtype='object')\n",
      "Size:    1428\n",
      "Shape:   (476, 3)\n"
     ]
    }
   ],
   "source": [
    "# 10. print following DataFrame attributes: index, columns, size, and shape\n",
    "print(\"Index:  \", mortality_data.index)\n",
    "print(\"Columns:\", mortality_data.columns)\n",
    "print(\"Size:   \", mortality_data.size)\n",
    "print(\"Shape:  \", mortality_data.shape)"
   ]
  },
  {
   "cell_type": "code",
   "execution_count": 11,
   "id": "4ae90a5f-f947-4849-83dc-d6ffa69b49ad",
   "metadata": {},
   "outputs": [
    {
     "name": "stdout",
     "output_type": "stream",
     "text": [
      "[[1900 '1-4 Years' 1983.8]\n",
      " [1901 '1-4 Years' 1695.0]\n",
      " [1902 '1-4 Years' 1655.7]\n",
      " ...\n",
      " [2016 '15-19 Years' 51.2]\n",
      " [2017 '15-19 Years' 51.5]\n",
      " [2018 '15-19 Years' 49.2]]\n"
     ]
    }
   ],
   "source": [
    "# 11. display DataFrame values in array format\n",
    "print(mortality_data.values)"
   ]
  },
  {
   "cell_type": "markdown",
   "id": "5a279d02-341c-443d-a589-35747f0ed8e7",
   "metadata": {},
   "source": [
    "### Use columns attribute to change column names (i.e., remove any spaces)"
   ]
  },
  {
   "cell_type": "code",
   "execution_count": 12,
   "id": "b950e9eb-1dc9-4542-885d-698821a3c168",
   "metadata": {},
   "outputs": [],
   "source": [
    "# 12. Use columns attribute, and replace() function to remove spaces in column names\n",
    "# removing spaces in column names good practice (otherwise, processing commands limited)\n",
    "mortality_data.columns = mortality_data.columns.str.replace(\" \", \"\")"
   ]
  },
  {
   "cell_type": "code",
   "execution_count": 13,
   "id": "0d1056be-96a2-41c4-ba74-446dc8e22525",
   "metadata": {},
   "outputs": [
    {
     "name": "stdout",
     "output_type": "stream",
     "text": [
      "Index(['Year', 'AgeGroup', 'DeathRate'], dtype='object')\n"
     ]
    }
   ],
   "source": [
    "# 13. print column names\n",
    "print(mortality_data.columns)"
   ]
  },
  {
   "cell_type": "code",
   "execution_count": 14,
   "id": "591321ed-9d7b-4e5a-88e6-1108660fc0c8",
   "metadata": {},
   "outputs": [
    {
     "name": "stdout",
     "output_type": "stream",
     "text": [
      "   Year   AgeGroup  DeathRate\n",
      "0  1900  1-4 Years     1983.8\n",
      "1  1901  1-4 Years     1695.0\n",
      "2  1902  1-4 Years     1655.7\n",
      "3  1903  1-4 Years     1542.1\n",
      "4  1904  1-4 Years     1591.5\n"
     ]
    }
   ],
   "source": [
    "# 14. print print column names with first 5 records\n",
    "print(mortality_data.head())"
   ]
  },
  {
   "cell_type": "markdown",
   "id": "331374a8-ff62-42e3-846d-5e3a7a348bcb",
   "metadata": {},
   "source": [
    "### Use info(), nunique(), and describe() methods"
   ]
  },
  {
   "cell_type": "code",
   "execution_count": 15,
   "id": "fabd69c5-aeda-4cad-976e-c9e3ce1632e5",
   "metadata": {},
   "outputs": [
    {
     "name": "stdout",
     "output_type": "stream",
     "text": [
      "<class 'pandas.core.frame.DataFrame'>\n",
      "RangeIndex: 476 entries, 0 to 475\n",
      "Data columns (total 3 columns):\n",
      " #   Column     Non-Null Count  Dtype  \n",
      "---  ------     --------------  -----  \n",
      " 0   Year       476 non-null    int64  \n",
      " 1   AgeGroup   476 non-null    object \n",
      " 2   DeathRate  476 non-null    float64\n",
      "dtypes: float64(1), int64(1), object(1)\n",
      "memory usage: 11.3+ KB\n"
     ]
    }
   ],
   "source": [
    "# 15. print DataFrame information\n",
    "mortality_data.info()"
   ]
  },
  {
   "cell_type": "code",
   "execution_count": 16,
   "id": "7322d188-bd8f-44f5-aadc-0995828f7ca7",
   "metadata": {},
   "outputs": [
    {
     "name": "stdout",
     "output_type": "stream",
     "text": [
      "<class 'pandas.core.frame.DataFrame'>\n",
      "RangeIndex: 476 entries, 0 to 475\n",
      "Data columns (total 3 columns):\n",
      " #   Column     Non-Null Count  Dtype  \n",
      "---  ------     --------------  -----  \n",
      " 0   Year       476 non-null    int64  \n",
      " 1   AgeGroup   476 non-null    object \n",
      " 2   DeathRate  476 non-null    float64\n",
      "dtypes: float64(1), int64(1), object(1)\n",
      "memory usage: 38.7 KB\n"
     ]
    }
   ],
   "source": [
    "# 16. print DataFrame information, including accurate memory usage (using 'deep' value)\n",
    "mortality_data.info(memory_usage='deep')"
   ]
  },
  {
   "cell_type": "code",
   "execution_count": 17,
   "id": "80a286d7-86c2-4424-b465-b0e27c4cc649",
   "metadata": {},
   "outputs": [
    {
     "data": {
      "text/plain": [
       "Year         119\n",
       "AgeGroup       4\n",
       "DeathRate    430\n",
       "dtype: int64"
      ]
     },
     "execution_count": 17,
     "metadata": {},
     "output_type": "execute_result"
    }
   ],
   "source": [
    "# 17. summarize unique values (i.e., no duplicates) in each column\n",
    "mortality_data.nunique()"
   ]
  },
  {
   "cell_type": "code",
   "execution_count": 18,
   "id": "4edb2fcc-cf32-456e-9b6b-18b9b0b8077e",
   "metadata": {},
   "outputs": [
    {
     "data": {
      "text/html": [
       "<div>\n",
       "<style scoped>\n",
       "    .dataframe tbody tr th:only-of-type {\n",
       "        vertical-align: middle;\n",
       "    }\n",
       "\n",
       "    .dataframe tbody tr th {\n",
       "        vertical-align: top;\n",
       "    }\n",
       "\n",
       "    .dataframe thead th {\n",
       "        text-align: right;\n",
       "    }\n",
       "</style>\n",
       "<table border=\"1\" class=\"dataframe\">\n",
       "  <thead>\n",
       "    <tr style=\"text-align: right;\">\n",
       "      <th></th>\n",
       "      <th>Year</th>\n",
       "      <th>DeathRate</th>\n",
       "    </tr>\n",
       "  </thead>\n",
       "  <tbody>\n",
       "    <tr>\n",
       "      <th>count</th>\n",
       "      <td>476.000000</td>\n",
       "      <td>476.000000</td>\n",
       "    </tr>\n",
       "    <tr>\n",
       "      <th>mean</th>\n",
       "      <td>1959.000000</td>\n",
       "      <td>192.924160</td>\n",
       "    </tr>\n",
       "    <tr>\n",
       "      <th>std</th>\n",
       "      <td>34.387268</td>\n",
       "      <td>293.224216</td>\n",
       "    </tr>\n",
       "    <tr>\n",
       "      <th>min</th>\n",
       "      <td>1900.000000</td>\n",
       "      <td>11.400000</td>\n",
       "    </tr>\n",
       "    <tr>\n",
       "      <th>25%</th>\n",
       "      <td>1929.000000</td>\n",
       "      <td>40.575000</td>\n",
       "    </tr>\n",
       "    <tr>\n",
       "      <th>50%</th>\n",
       "      <td>1959.000000</td>\n",
       "      <td>89.500000</td>\n",
       "    </tr>\n",
       "    <tr>\n",
       "      <th>75%</th>\n",
       "      <td>1989.000000</td>\n",
       "      <td>222.575000</td>\n",
       "    </tr>\n",
       "    <tr>\n",
       "      <th>max</th>\n",
       "      <td>2018.000000</td>\n",
       "      <td>1983.800000</td>\n",
       "    </tr>\n",
       "  </tbody>\n",
       "</table>\n",
       "</div>"
      ],
      "text/plain": [
       "              Year    DeathRate\n",
       "count   476.000000   476.000000\n",
       "mean   1959.000000   192.924160\n",
       "std      34.387268   293.224216\n",
       "min    1900.000000    11.400000\n",
       "25%    1929.000000    40.575000\n",
       "50%    1959.000000    89.500000\n",
       "75%    1989.000000   222.575000\n",
       "max    2018.000000  1983.800000"
      ]
     },
     "execution_count": 18,
     "metadata": {},
     "output_type": "execute_result"
    }
   ],
   "source": [
    "# 18. display generic stats for each numeric column - using describe() function\n",
    "mortality_data.describe()"
   ]
  },
  {
   "cell_type": "code",
   "execution_count": 19,
   "id": "1cf1581c-8582-407e-865b-8e980e5380e2",
   "metadata": {},
   "outputs": [
    {
     "data": {
      "text/html": [
       "<div>\n",
       "<style scoped>\n",
       "    .dataframe tbody tr th:only-of-type {\n",
       "        vertical-align: middle;\n",
       "    }\n",
       "\n",
       "    .dataframe tbody tr th {\n",
       "        vertical-align: top;\n",
       "    }\n",
       "\n",
       "    .dataframe thead th {\n",
       "        text-align: right;\n",
       "    }\n",
       "</style>\n",
       "<table border=\"1\" class=\"dataframe\">\n",
       "  <thead>\n",
       "    <tr style=\"text-align: right;\">\n",
       "      <th></th>\n",
       "      <th>count</th>\n",
       "      <th>mean</th>\n",
       "      <th>std</th>\n",
       "      <th>min</th>\n",
       "      <th>25%</th>\n",
       "      <th>50%</th>\n",
       "      <th>75%</th>\n",
       "      <th>max</th>\n",
       "    </tr>\n",
       "  </thead>\n",
       "  <tbody>\n",
       "    <tr>\n",
       "      <th>Year</th>\n",
       "      <td>476.0</td>\n",
       "      <td>1959.00000</td>\n",
       "      <td>34.387268</td>\n",
       "      <td>1900.0</td>\n",
       "      <td>1929.000</td>\n",
       "      <td>1959.0</td>\n",
       "      <td>1989.000</td>\n",
       "      <td>2018.0</td>\n",
       "    </tr>\n",
       "    <tr>\n",
       "      <th>DeathRate</th>\n",
       "      <td>476.0</td>\n",
       "      <td>192.92416</td>\n",
       "      <td>293.224216</td>\n",
       "      <td>11.4</td>\n",
       "      <td>40.575</td>\n",
       "      <td>89.5</td>\n",
       "      <td>222.575</td>\n",
       "      <td>1983.8</td>\n",
       "    </tr>\n",
       "  </tbody>\n",
       "</table>\n",
       "</div>"
      ],
      "text/plain": [
       "           count        mean         std     min       25%     50%       75%  \\\n",
       "Year       476.0  1959.00000   34.387268  1900.0  1929.000  1959.0  1989.000   \n",
       "DeathRate  476.0   192.92416  293.224216    11.4    40.575    89.5   222.575   \n",
       "\n",
       "              max  \n",
       "Year       2018.0  \n",
       "DeathRate  1983.8  "
      ]
     },
     "execution_count": 19,
     "metadata": {},
     "output_type": "execute_result"
    }
   ],
   "source": [
    "# 19. transpose stats so that stat names are displayed in columns (using T property)\n",
    "mortality_data.describe().T"
   ]
  },
  {
   "cell_type": "code",
   "execution_count": 20,
   "id": "65fa3b46-16b9-4f7a-8442-a992065ce98e",
   "metadata": {},
   "outputs": [],
   "source": [
    "# 20. save cleaned DataFrame to pickle file (mortality_cleaned.pkl)\n",
    "mortality_data.to_pickle('mortality_cleaned.pkl')"
   ]
  },
  {
   "cell_type": "code",
   "execution_count": 21,
   "id": "d0465f85-5e28-4c1b-bf57-a2d5e363de82",
   "metadata": {},
   "outputs": [],
   "source": [
    "# 21. read cleaned pickle file to mortality_data variable\n",
    "mortality_data = pd.read_pickle('mortality_cleaned.pkl')"
   ]
  },
  {
   "cell_type": "code",
   "execution_count": 22,
   "id": "08b574b3-1631-44e0-98e3-175ffda49b4c",
   "metadata": {},
   "outputs": [
    {
     "name": "stdout",
     "output_type": "stream",
     "text": [
      "   Year   AgeGroup  DeathRate\n",
      "0  1900  1-4 Years     1983.8\n",
      "1  1901  1-4 Years     1695.0\n",
      "2  1902  1-4 Years     1655.7\n",
      "3  1903  1-4 Years     1542.1\n",
      "4  1904  1-4 Years     1591.5\n"
     ]
    }
   ],
   "source": [
    "# 22. display first 5 rows of clened pickle file\n",
    "print(mortality_data.head())"
   ]
  },
  {
   "cell_type": "markdown",
   "id": "0d1836eb-b632-496e-86a4-3c71f244b16e",
   "metadata": {},
   "source": [
    "## Accessing data (Be Careful!)\n",
    "\n",
    "### Access data (columns)"
   ]
  },
  {
   "cell_type": "code",
   "execution_count": 23,
   "id": "7956e9a9-6d22-4cb7-b7b4-b7045b6c8c98",
   "metadata": {},
   "outputs": [
    {
     "name": "stdout",
     "output_type": "stream",
     "text": [
      "0    1983.8\n",
      "1    1695.0\n",
      "Name: DeathRate, dtype: float64\n"
     ]
    }
   ],
   "source": [
    "# using dot notation\n",
    "# Note: can't use dot notation with more than one column--or column names with sapces!\n",
    "# 23. Display first two records of DeathRate column using dot notation.\n",
    "print(mortality_data.DeathRate.head(2))"
   ]
  },
  {
   "cell_type": "code",
   "execution_count": 24,
   "id": "c1075e58-ed1a-4613-9ffd-0bfe64da6bc3",
   "metadata": {},
   "outputs": [
    {
     "name": "stdout",
     "output_type": "stream",
     "text": [
      "0    1983.8\n",
      "1    1695.0\n",
      "Name: DeathRate, dtype: float64\n"
     ]
    }
   ],
   "source": [
    "# 24. Same as above using single brackets\n",
    "print(mortality_data['DeathRate'].head(2))"
   ]
  },
  {
   "cell_type": "code",
   "execution_count": 25,
   "id": "b5fde4bd-1112-4c5c-9124-7bf2a807dea8",
   "metadata": {},
   "outputs": [
    {
     "name": "stdout",
     "output_type": "stream",
     "text": [
      "   DeathRate\n",
      "0     1983.8\n",
      "1     1695.0\n"
     ]
    }
   ],
   "source": [
    "# 25. Same as above using double brackets\n",
    "print(mortality_data[['DeathRate']].head(2))"
   ]
  },
  {
   "cell_type": "code",
   "execution_count": 26,
   "id": "a4dbe427-bec0-4e06-a1d9-5bffb7e8eae6",
   "metadata": {},
   "outputs": [
    {
     "name": "stdout",
     "output_type": "stream",
     "text": [
      "<class 'pandas.core.series.Series'>\n"
     ]
    }
   ],
   "source": [
    "# Note difference in types!\n",
    "# 26. Display DeathRate type using dot notation.\n",
    "# note type (series)\n",
    "print(type(mortality_data.DeathRate))"
   ]
  },
  {
   "cell_type": "code",
   "execution_count": 27,
   "id": "b0527e1c-5c0a-44ed-8b2f-167834740f2f",
   "metadata": {},
   "outputs": [
    {
     "name": "stdout",
     "output_type": "stream",
     "text": [
      "<class 'pandas.core.series.Series'>\n"
     ]
    }
   ],
   "source": [
    "# 27. Display DeathRate type using single brackets\n",
    "# note type single brackets (Series)\n",
    "print(type(mortality_data['DeathRate']))"
   ]
  },
  {
   "cell_type": "code",
   "execution_count": 28,
   "id": "79a453c7-76af-4c35-a40b-d355943fa6be",
   "metadata": {},
   "outputs": [
    {
     "name": "stdout",
     "output_type": "stream",
     "text": [
      "<class 'pandas.core.frame.DataFrame'>\n"
     ]
    }
   ],
   "source": [
    "# 28. Display DeathRate type using double brackets.\n",
    "# note type double brackets (DataFrame)\n",
    "print(type(mortality_data[['DeathRate']]))"
   ]
  },
  {
   "cell_type": "code",
   "execution_count": 29,
   "id": "9ac4c8a0-547c-4379-b3c9-e8f1faa7871b",
   "metadata": {},
   "outputs": [
    {
     "name": "stdout",
     "output_type": "stream",
     "text": [
      "   Year  DeathRate\n",
      "0  1900     1983.8\n",
      "1  1901     1695.0\n"
     ]
    }
   ],
   "source": [
    "# 29. Access more than one column--*must* use brackets\n",
    "print(mortality_data[['Year','DeathRate']].head(2))"
   ]
  },
  {
   "cell_type": "code",
   "execution_count": 30,
   "id": "7aaea01f-4f1e-4e5b-a36a-1859664e6a69",
   "metadata": {},
   "outputs": [
    {
     "data": {
      "text/plain": [
       "pandas.core.frame.DataFrame"
      ]
     },
     "execution_count": 30,
     "metadata": {},
     "output_type": "execute_result"
    }
   ],
   "source": [
    "# 30. Display Year and DeathRate type using double brackets.\n",
    "# note type (DataFrame)\n",
    "type(mortality_data[['Year','DeathRate']])"
   ]
  },
  {
   "cell_type": "markdown",
   "id": "0cd8dcca-c52b-45d6-82cf-537322f87ee8",
   "metadata": {},
   "source": [
    "## Accessing rows"
   ]
  },
  {
   "cell_type": "code",
   "execution_count": 31,
   "id": "fd1ba2b3-94f6-45f2-ae26-fd4ec0c075f4",
   "metadata": {},
   "outputs": [
    {
     "name": "stdout",
     "output_type": "stream",
     "text": [
      "     Year     AgeGroup  DeathRate\n",
      "0    1900    1-4 Years     1983.8\n",
      "119  1900    5-9 Years      466.1\n",
      "238  1900  10-14 Years      298.3\n",
      "357  1900  15-19 Years      484.8\n"
     ]
    }
   ],
   "source": [
    "# 31. Access data using query() function (Year-1900)\n",
    "print(mortality_data.query('Year==1900'))"
   ]
  },
  {
   "cell_type": "code",
   "execution_count": 32,
   "id": "c7271da9-4d0d-4aac-ae40-90fea35cb3fb",
   "metadata": {},
   "outputs": [
    {
     "name": "stdout",
     "output_type": "stream",
     "text": [
      "     Year     AgeGroup  DeathRate\n",
      "219  2000    5-9 Years       15.8\n",
      "338  2000  10-14 Years       20.3\n",
      "457  2000  15-19 Years       67.1\n"
     ]
    }
   ],
   "source": [
    "# 32. Access data using query() function (Year=2000 and AgeGroup !- 1 - 4 Years)\n",
    "print(mortality_data.query('Year == 2000 and AgeGroup != \"1-4 Years\"'))"
   ]
  },
  {
   "cell_type": "code",
   "execution_count": 33,
   "id": "d411ab88-47f5-4cfd-a4a9-487056250258",
   "metadata": {},
   "outputs": [
    {
     "name": "stdout",
     "output_type": "stream",
     "text": [
      "     Year     AgeGroup  DeathRate\n",
      "0    1900    1-4 Years     1983.8\n",
      "100  2000    1-4 Years       32.4\n",
      "119  1900    5-9 Years      466.1\n",
      "219  2000    5-9 Years       15.8\n",
      "238  1900  10-14 Years      298.3\n"
     ]
    }
   ],
   "source": [
    "# 33. Access data using query() function (Year=1900 or Year=2000), display first 5 records\n",
    "print(mortality_data.query('Year == 1900 or Year == 2000').head())"
   ]
  },
  {
   "cell_type": "markdown",
   "id": "1707b273-7642-400e-b35e-3a1b11000cf6",
   "metadata": {},
   "source": [
    "## Access subset of rows and columns"
   ]
  },
  {
   "cell_type": "code",
   "execution_count": 34,
   "id": "4ad631ac-3082-484e-8c34-48481e2ceb15",
   "metadata": {},
   "outputs": [
    {
     "name": "stdout",
     "output_type": "stream",
     "text": [
      "0      1983.8\n",
      "119     466.1\n",
      "238     298.3\n",
      "357     484.8\n",
      "Name: DeathRate, dtype: float64\n"
     ]
    }
   ],
   "source": [
    "# Note: use brackets if a column name contains spaces\n",
    "# mortality_data.query('Year == 2000 and 'Age Group' != \"1-4 Years\"')\n",
    "\n",
    "# Note: after using query method on subset can use either dot notation or brackets\n",
    "# Generally, use brackets, retursn a DataFrame (easier to perform some operations), instead of Series object.\n",
    "\n",
    "# 34. Using dot notation, access data using query() function (Year=1900), onlhy for DeathRate column, displa first 5 records\n",
    "print(mortality_data.query('Year == 1900').DeathRate.head())"
   ]
  },
  {
   "cell_type": "code",
   "execution_count": 35,
   "id": "50eff6c0-e52c-4ba9-9b95-0decbe7a2bca",
   "metadata": {},
   "outputs": [
    {
     "name": "stdout",
     "output_type": "stream",
     "text": [
      "0      1983.8\n",
      "119     466.1\n",
      "238     298.3\n",
      "357     484.8\n",
      "Name: DeathRate, dtype: float64\n"
     ]
    }
   ],
   "source": [
    "# 35. Using single bracket notation, access data usin query() function (year=1900), only for DeathRate column, display first 5 records\n",
    "print(mortality_data.query('Year == 1900')['DeathRate'].head())"
   ]
  },
  {
   "cell_type": "code",
   "execution_count": 36,
   "id": "2b49ec36-a6de-46bf-98ef-be3910b4d390",
   "metadata": {},
   "outputs": [
    {
     "name": "stdout",
     "output_type": "stream",
     "text": [
      "     DeathRate\n",
      "0       1983.8\n",
      "119      466.1\n",
      "238      298.3\n",
      "357      484.8\n"
     ]
    }
   ],
   "source": [
    "# 36. Using double bracket notation, access data using query() function (Year=1900), only for DeathRate column, display first 5 record\n",
    "print(mortality_data.query('Year == 1900')[['DeathRate']].head())"
   ]
  },
  {
   "cell_type": "code",
   "execution_count": 37,
   "id": "77a09508-11c6-432d-a5dc-f85922e5db95",
   "metadata": {},
   "outputs": [
    {
     "name": "stdout",
     "output_type": "stream",
     "text": [
      "<class 'pandas.core.series.Series'>\n"
     ]
    }
   ],
   "source": [
    "# 37. Display data type of dot notation used above\n",
    "print(type(mortality_data.query('Year == 1900').DeathRate.head()))"
   ]
  },
  {
   "cell_type": "code",
   "execution_count": 38,
   "id": "d30abcda-70a6-4d3a-99aa-1920c310fe96",
   "metadata": {},
   "outputs": [
    {
     "name": "stdout",
     "output_type": "stream",
     "text": [
      "<class 'pandas.core.series.Series'>\n"
     ]
    }
   ],
   "source": [
    "# 38. Display data type of single bracket notation used above\n",
    "print(type(mortality_data.query('Year == 1900')['DeathRate'].head()))"
   ]
  },
  {
   "cell_type": "code",
   "execution_count": 39,
   "id": "6b31f1ff-19ca-4def-a912-3030374a5dc0",
   "metadata": {},
   "outputs": [
    {
     "name": "stdout",
     "output_type": "stream",
     "text": [
      "<class 'pandas.core.frame.DataFrame'>\n"
     ]
    }
   ],
   "source": [
    "# 39. Display data type of double bracket notation used above\n",
    "print(type(mortality_data.query('Year == 1900')[['DeathRate']].head()))"
   ]
  },
  {
   "cell_type": "code",
   "execution_count": 40,
   "id": "18539f02-206e-46d4-9c64-ab0c774f4267",
   "metadata": {},
   "outputs": [
    {
     "name": "stdout",
     "output_type": "stream",
     "text": [
      "        AgeGroup  DeathRate\n",
      "0      1-4 Years     1983.8\n",
      "119    5-9 Years      466.1\n",
      "238  10-14 Years      298.3\n",
      "357  15-19 Years      484.8\n"
     ]
    }
   ],
   "source": [
    "# 40. Using double bracket notation, access data using query() function (Year=1900), for AgeGroup and DeathRate columns, display first 5 records\n",
    "# Note: *must* use brackets with more than one column (returns DataFrame)\n",
    "print(mortality_data.query('Year == 1900')[['AgeGroup', 'DeathRate']].head())"
   ]
  },
  {
   "cell_type": "markdown",
   "id": "fe14a7b7-84f4-45af-9f15-d57318356c21",
   "metadata": {},
   "source": [
    "## Access rows with loc[] accessor"
   ]
  },
  {
   "cell_type": "code",
   "execution_count": 42,
   "id": "8bc6d932-f02c-444c-a34a-51d9d6b56722",
   "metadata": {},
   "outputs": [
    {
     "data": {
      "text/html": [
       "<div>\n",
       "<style scoped>\n",
       "    .dataframe tbody tr th:only-of-type {\n",
       "        vertical-align: middle;\n",
       "    }\n",
       "\n",
       "    .dataframe tbody tr th {\n",
       "        vertical-align: top;\n",
       "    }\n",
       "\n",
       "    .dataframe thead th {\n",
       "        text-align: right;\n",
       "    }\n",
       "</style>\n",
       "<table border=\"1\" class=\"dataframe\">\n",
       "  <thead>\n",
       "    <tr style=\"text-align: right;\">\n",
       "      <th></th>\n",
       "      <th>Year</th>\n",
       "      <th>AgeGroup</th>\n",
       "      <th>DeathRate</th>\n",
       "    </tr>\n",
       "  </thead>\n",
       "  <tbody>\n",
       "    <tr>\n",
       "      <th>0</th>\n",
       "      <td>1900</td>\n",
       "      <td>1-4 Years</td>\n",
       "      <td>1983.8</td>\n",
       "    </tr>\n",
       "    <tr>\n",
       "      <th>5</th>\n",
       "      <td>1905</td>\n",
       "      <td>1-4 Years</td>\n",
       "      <td>1498.9</td>\n",
       "    </tr>\n",
       "    <tr>\n",
       "      <th>10</th>\n",
       "      <td>1910</td>\n",
       "      <td>1-4 Years</td>\n",
       "      <td>1397.3</td>\n",
       "    </tr>\n",
       "  </tbody>\n",
       "</table>\n",
       "</div>"
      ],
      "text/plain": [
       "    Year   AgeGroup  DeathRate\n",
       "0   1900  1-4 Years     1983.8\n",
       "5   1905  1-4 Years     1498.9\n",
       "10  1910  1-4 Years     1397.3"
      ]
     },
     "execution_count": 42,
     "metadata": {},
     "output_type": "execute_result"
    }
   ],
   "source": [
    "# https://pandas.pydate.org/docs/user_guide/indexing.html#selection-by-lable\n",
    "# Access rows with loc[] accessor (by labels) using list or slice, here using list\n",
    "# 41. Display row values for 0, 5, and 10 index 'Labels'(Note: Loc[] interpreted as 'label' of index--*not* integer position!)\n",
    "# Note: here, they are the first, sixth, and 11th rows\n",
    "mortality_data.loc[[0,5,10]]"
   ]
  },
  {
   "cell_type": "code",
   "execution_count": 43,
   "id": "4c0f5f78-1693-4ae6-8f3e-43a66c41350c",
   "metadata": {},
   "outputs": [
    {
     "data": {
      "text/html": [
       "<div>\n",
       "<style scoped>\n",
       "    .dataframe tbody tr th:only-of-type {\n",
       "        vertical-align: middle;\n",
       "    }\n",
       "\n",
       "    .dataframe tbody tr th {\n",
       "        vertical-align: top;\n",
       "    }\n",
       "\n",
       "    .dataframe thead th {\n",
       "        text-align: right;\n",
       "    }\n",
       "</style>\n",
       "<table border=\"1\" class=\"dataframe\">\n",
       "  <thead>\n",
       "    <tr style=\"text-align: right;\">\n",
       "      <th></th>\n",
       "      <th>Year</th>\n",
       "      <th>AgeGroup</th>\n",
       "      <th>DeathRate</th>\n",
       "    </tr>\n",
       "  </thead>\n",
       "  <tbody>\n",
       "    <tr>\n",
       "      <th>0</th>\n",
       "      <td>1900</td>\n",
       "      <td>1-4 Years</td>\n",
       "      <td>1983.8</td>\n",
       "    </tr>\n",
       "    <tr>\n",
       "      <th>1</th>\n",
       "      <td>1901</td>\n",
       "      <td>1-4 Years</td>\n",
       "      <td>1695.0</td>\n",
       "    </tr>\n",
       "    <tr>\n",
       "      <th>2</th>\n",
       "      <td>1902</td>\n",
       "      <td>1-4 Years</td>\n",
       "      <td>1655.7</td>\n",
       "    </tr>\n",
       "    <tr>\n",
       "      <th>3</th>\n",
       "      <td>1903</td>\n",
       "      <td>1-4 Years</td>\n",
       "      <td>1542.1</td>\n",
       "    </tr>\n",
       "    <tr>\n",
       "      <th>4</th>\n",
       "      <td>1904</td>\n",
       "      <td>1-4 Years</td>\n",
       "      <td>1591.5</td>\n",
       "    </tr>\n",
       "    <tr>\n",
       "      <th>5</th>\n",
       "      <td>1905</td>\n",
       "      <td>1-4 Years</td>\n",
       "      <td>1498.9</td>\n",
       "    </tr>\n",
       "    <tr>\n",
       "      <th>6</th>\n",
       "      <td>1906</td>\n",
       "      <td>1-4 Years</td>\n",
       "      <td>1580.0</td>\n",
       "    </tr>\n",
       "    <tr>\n",
       "      <th>7</th>\n",
       "      <td>1907</td>\n",
       "      <td>1-4 Years</td>\n",
       "      <td>1468.3</td>\n",
       "    </tr>\n",
       "    <tr>\n",
       "      <th>8</th>\n",
       "      <td>1908</td>\n",
       "      <td>1-4 Years</td>\n",
       "      <td>1396.8</td>\n",
       "    </tr>\n",
       "    <tr>\n",
       "      <th>9</th>\n",
       "      <td>1909</td>\n",
       "      <td>1-4 Years</td>\n",
       "      <td>1348.9</td>\n",
       "    </tr>\n",
       "    <tr>\n",
       "      <th>10</th>\n",
       "      <td>1910</td>\n",
       "      <td>1-4 Years</td>\n",
       "      <td>1397.3</td>\n",
       "    </tr>\n",
       "  </tbody>\n",
       "</table>\n",
       "</div>"
      ],
      "text/plain": [
       "    Year   AgeGroup  DeathRate\n",
       "0   1900  1-4 Years     1983.8\n",
       "1   1901  1-4 Years     1695.0\n",
       "2   1902  1-4 Years     1655.7\n",
       "3   1903  1-4 Years     1542.1\n",
       "4   1904  1-4 Years     1591.5\n",
       "5   1905  1-4 Years     1498.9\n",
       "6   1906  1-4 Years     1580.0\n",
       "7   1907  1-4 Years     1468.3\n",
       "8   1908  1-4 Years     1396.8\n",
       "9   1909  1-4 Years     1348.9\n",
       "10  1910  1-4 Years     1397.3"
      ]
     },
     "execution_count": 43,
     "metadata": {},
     "output_type": "execute_result"
    }
   ],
   "source": [
    "# 42. verify index 'labels' and row values\n",
    "mortality_data.head(11)"
   ]
  },
  {
   "cell_type": "code",
   "execution_count": 44,
   "id": "26f75ef5-35f1-420f-b1b5-480425a6f68e",
   "metadata": {},
   "outputs": [
    {
     "data": {
      "text/html": [
       "<div>\n",
       "<style scoped>\n",
       "    .dataframe tbody tr th:only-of-type {\n",
       "        vertical-align: middle;\n",
       "    }\n",
       "\n",
       "    .dataframe tbody tr th {\n",
       "        vertical-align: top;\n",
       "    }\n",
       "\n",
       "    .dataframe thead th {\n",
       "        text-align: right;\n",
       "    }\n",
       "</style>\n",
       "<table border=\"1\" class=\"dataframe\">\n",
       "  <thead>\n",
       "    <tr style=\"text-align: right;\">\n",
       "      <th></th>\n",
       "      <th>Year</th>\n",
       "      <th>AgeGroup</th>\n",
       "      <th>DeathRate</th>\n",
       "    </tr>\n",
       "  </thead>\n",
       "  <tbody>\n",
       "    <tr>\n",
       "      <th>4</th>\n",
       "      <td>1904</td>\n",
       "      <td>1-4 Years</td>\n",
       "      <td>1591.5</td>\n",
       "    </tr>\n",
       "    <tr>\n",
       "      <th>5</th>\n",
       "      <td>1905</td>\n",
       "      <td>1-4 Years</td>\n",
       "      <td>1498.9</td>\n",
       "    </tr>\n",
       "    <tr>\n",
       "      <th>6</th>\n",
       "      <td>1906</td>\n",
       "      <td>1-4 Years</td>\n",
       "      <td>1580.0</td>\n",
       "    </tr>\n",
       "  </tbody>\n",
       "</table>\n",
       "</div>"
      ],
      "text/plain": [
       "   Year   AgeGroup  DeathRate\n",
       "4  1904  1-4 Years     1591.5\n",
       "5  1905  1-4 Years     1498.9\n",
       "6  1906  1-4 Years     1580.0"
      ]
     },
     "execution_count": 44,
     "metadata": {},
     "output_type": "execute_result"
    }
   ],
   "source": [
    "# 43. Access rows using *slice* (loc[] accessor includes stop value)\n",
    "# generic syntax: loc[start:stop:step]\n",
    "mortality_data.loc[4:6]"
   ]
  },
  {
   "cell_type": "code",
   "execution_count": 45,
   "id": "8704fdd1-e9a5-4e2b-940c-befabf87ffbf",
   "metadata": {},
   "outputs": [
    {
     "data": {
      "text/html": [
       "<div>\n",
       "<style scoped>\n",
       "    .dataframe tbody tr th:only-of-type {\n",
       "        vertical-align: middle;\n",
       "    }\n",
       "\n",
       "    .dataframe tbody tr th {\n",
       "        vertical-align: top;\n",
       "    }\n",
       "\n",
       "    .dataframe thead th {\n",
       "        text-align: right;\n",
       "    }\n",
       "</style>\n",
       "<table border=\"1\" class=\"dataframe\">\n",
       "  <thead>\n",
       "    <tr style=\"text-align: right;\">\n",
       "      <th></th>\n",
       "      <th>Year</th>\n",
       "      <th>AgeGroup</th>\n",
       "      <th>DeathRate</th>\n",
       "    </tr>\n",
       "  </thead>\n",
       "  <tbody>\n",
       "    <tr>\n",
       "      <th>0</th>\n",
       "      <td>1900</td>\n",
       "      <td>1-4 Years</td>\n",
       "      <td>1983.8</td>\n",
       "    </tr>\n",
       "    <tr>\n",
       "      <th>5</th>\n",
       "      <td>1905</td>\n",
       "      <td>1-4 Years</td>\n",
       "      <td>1498.9</td>\n",
       "    </tr>\n",
       "    <tr>\n",
       "      <th>10</th>\n",
       "      <td>1910</td>\n",
       "      <td>1-4 Years</td>\n",
       "      <td>1397.3</td>\n",
       "    </tr>\n",
       "    <tr>\n",
       "      <th>15</th>\n",
       "      <td>1915</td>\n",
       "      <td>1-4 Years</td>\n",
       "      <td>924.2</td>\n",
       "    </tr>\n",
       "    <tr>\n",
       "      <th>20</th>\n",
       "      <td>1920</td>\n",
       "      <td>1-4 Years</td>\n",
       "      <td>987.2</td>\n",
       "    </tr>\n",
       "  </tbody>\n",
       "</table>\n",
       "</div>"
      ],
      "text/plain": [
       "    Year   AgeGroup  DeathRate\n",
       "0   1900  1-4 Years     1983.8\n",
       "5   1905  1-4 Years     1498.9\n",
       "10  1910  1-4 Years     1397.3\n",
       "15  1915  1-4 Years      924.2\n",
       "20  1920  1-4 Years      987.2"
      ]
     },
     "execution_count": 45,
     "metadata": {},
     "output_type": "execute_result"
    }
   ],
   "source": [
    "# 44. Access rows using *slice*, include start, stop, and step values\n",
    "mortality_data.loc[0:20:5]"
   ]
  },
  {
   "cell_type": "code",
   "execution_count": 46,
   "id": "34c20924-4ee6-47d6-ab86-dafbce892a3e",
   "metadata": {},
   "outputs": [
    {
     "data": {
      "text/html": [
       "<div>\n",
       "<style scoped>\n",
       "    .dataframe tbody tr th:only-of-type {\n",
       "        vertical-align: middle;\n",
       "    }\n",
       "\n",
       "    .dataframe tbody tr th {\n",
       "        vertical-align: top;\n",
       "    }\n",
       "\n",
       "    .dataframe thead th {\n",
       "        text-align: right;\n",
       "    }\n",
       "</style>\n",
       "<table border=\"1\" class=\"dataframe\">\n",
       "  <thead>\n",
       "    <tr style=\"text-align: right;\">\n",
       "      <th></th>\n",
       "      <th>Year</th>\n",
       "      <th>AgeGroup</th>\n",
       "      <th>DeathRate</th>\n",
       "    </tr>\n",
       "  </thead>\n",
       "  <tbody>\n",
       "    <tr>\n",
       "      <th>17</th>\n",
       "      <td>1917</td>\n",
       "      <td>1-4 Years</td>\n",
       "      <td>1066.0</td>\n",
       "    </tr>\n",
       "    <tr>\n",
       "      <th>136</th>\n",
       "      <td>1917</td>\n",
       "      <td>5-9 Years</td>\n",
       "      <td>290.7</td>\n",
       "    </tr>\n",
       "    <tr>\n",
       "      <th>255</th>\n",
       "      <td>1917</td>\n",
       "      <td>10-14 Years</td>\n",
       "      <td>218.9</td>\n",
       "    </tr>\n",
       "    <tr>\n",
       "      <th>374</th>\n",
       "      <td>1917</td>\n",
       "      <td>15-19 Years</td>\n",
       "      <td>380.3</td>\n",
       "    </tr>\n",
       "  </tbody>\n",
       "</table>\n",
       "</div>"
      ],
      "text/plain": [
       "     Year     AgeGroup  DeathRate\n",
       "17   1917    1-4 Years     1066.0\n",
       "136  1917    5-9 Years      290.7\n",
       "255  1917  10-14 Years      218.9\n",
       "374  1917  15-19 Years      380.3"
      ]
     },
     "execution_count": 46,
     "metadata": {},
     "output_type": "execute_result"
    }
   ],
   "source": [
    "# 45. Access rows using conditional expression (Year=1917)\n",
    "mortality_data.loc[mortality_data.Year == 1917]"
   ]
  },
  {
   "cell_type": "markdown",
   "id": "ab78f0cd-3355-46cc-9f5f-807132b7c1bf",
   "metadata": {},
   "source": [
    "## Access rows and columns with loc[] accessor"
   ]
  },
  {
   "cell_type": "code",
   "execution_count": 49,
   "id": "d4dd275e-e214-4a47-ad3b-be2fc39fa909",
   "metadata": {},
   "outputs": [
    {
     "data": {
      "text/html": [
       "<div>\n",
       "<style scoped>\n",
       "    .dataframe tbody tr th:only-of-type {\n",
       "        vertical-align: middle;\n",
       "    }\n",
       "\n",
       "    .dataframe tbody tr th {\n",
       "        vertical-align: top;\n",
       "    }\n",
       "\n",
       "    .dataframe thead th {\n",
       "        text-align: right;\n",
       "    }\n",
       "</style>\n",
       "<table border=\"1\" class=\"dataframe\">\n",
       "  <thead>\n",
       "    <tr style=\"text-align: right;\">\n",
       "      <th></th>\n",
       "      <th>Year</th>\n",
       "      <th>AgeGroup</th>\n",
       "    </tr>\n",
       "  </thead>\n",
       "  <tbody>\n",
       "    <tr>\n",
       "      <th>0</th>\n",
       "      <td>1900</td>\n",
       "      <td>1-4 Years</td>\n",
       "    </tr>\n",
       "    <tr>\n",
       "      <th>1</th>\n",
       "      <td>1901</td>\n",
       "      <td>1-4 Years</td>\n",
       "    </tr>\n",
       "    <tr>\n",
       "      <th>2</th>\n",
       "      <td>1902</td>\n",
       "      <td>1-4 Years</td>\n",
       "    </tr>\n",
       "    <tr>\n",
       "      <th>3</th>\n",
       "      <td>1903</td>\n",
       "      <td>1-4 Years</td>\n",
       "    </tr>\n",
       "    <tr>\n",
       "      <th>4</th>\n",
       "      <td>1904</td>\n",
       "      <td>1-4 Years</td>\n",
       "    </tr>\n",
       "    <tr>\n",
       "      <th>...</th>\n",
       "      <td>...</td>\n",
       "      <td>...</td>\n",
       "    </tr>\n",
       "    <tr>\n",
       "      <th>471</th>\n",
       "      <td>2014</td>\n",
       "      <td>15-19 Years</td>\n",
       "    </tr>\n",
       "    <tr>\n",
       "      <th>472</th>\n",
       "      <td>2015</td>\n",
       "      <td>15-19 Years</td>\n",
       "    </tr>\n",
       "    <tr>\n",
       "      <th>473</th>\n",
       "      <td>2016</td>\n",
       "      <td>15-19 Years</td>\n",
       "    </tr>\n",
       "    <tr>\n",
       "      <th>474</th>\n",
       "      <td>2017</td>\n",
       "      <td>15-19 Years</td>\n",
       "    </tr>\n",
       "    <tr>\n",
       "      <th>475</th>\n",
       "      <td>2018</td>\n",
       "      <td>15-19 Years</td>\n",
       "    </tr>\n",
       "  </tbody>\n",
       "</table>\n",
       "<p>476 rows × 2 columns</p>\n",
       "</div>"
      ],
      "text/plain": [
       "     Year     AgeGroup\n",
       "0    1900    1-4 Years\n",
       "1    1901    1-4 Years\n",
       "2    1902    1-4 Years\n",
       "3    1903    1-4 Years\n",
       "4    1904    1-4 Years\n",
       "..    ...          ...\n",
       "471  2014  15-19 Years\n",
       "472  2015  15-19 Years\n",
       "473  2016  15-19 Years\n",
       "474  2017  15-19 Years\n",
       "475  2018  15-19 Years\n",
       "\n",
       "[476 rows x 2 columns]"
      ]
     },
     "execution_count": 49,
     "metadata": {},
     "output_type": "execute_result"
    }
   ],
   "source": [
    "# 46. Display first and last 5 rows, of Year and AgeGroup columns using loc[] accessor, with slice and list*)\n",
    "# Note: Here, includes all rows. However, will only display first and last 5 records\n",
    "mortality_data.loc[:,['Year', 'AgeGroup']]"
   ]
  },
  {
   "cell_type": "markdown",
   "id": "b286c2fa-df47-4a52-8a1c-64300c30d495",
   "metadata": {},
   "source": [
    "## Access subset of rows and columns with loc[] accessor"
   ]
  },
  {
   "cell_type": "code",
   "execution_count": 50,
   "id": "b9dfa327-4ece-45e6-8cdb-3d7d9c414b99",
   "metadata": {},
   "outputs": [
    {
     "data": {
      "text/html": [
       "<div>\n",
       "<style scoped>\n",
       "    .dataframe tbody tr th:only-of-type {\n",
       "        vertical-align: middle;\n",
       "    }\n",
       "\n",
       "    .dataframe tbody tr th {\n",
       "        vertical-align: top;\n",
       "    }\n",
       "\n",
       "    .dataframe thead th {\n",
       "        text-align: right;\n",
       "    }\n",
       "</style>\n",
       "<table border=\"1\" class=\"dataframe\">\n",
       "  <thead>\n",
       "    <tr style=\"text-align: right;\">\n",
       "      <th></th>\n",
       "      <th>AgeGroup</th>\n",
       "      <th>DeathRate</th>\n",
       "    </tr>\n",
       "  </thead>\n",
       "  <tbody>\n",
       "    <tr>\n",
       "      <th>0</th>\n",
       "      <td>1-4 Years</td>\n",
       "      <td>1983.8</td>\n",
       "    </tr>\n",
       "    <tr>\n",
       "      <th>5</th>\n",
       "      <td>1-4 Years</td>\n",
       "      <td>1498.9</td>\n",
       "    </tr>\n",
       "    <tr>\n",
       "      <th>10</th>\n",
       "      <td>1-4 Years</td>\n",
       "      <td>1397.3</td>\n",
       "    </tr>\n",
       "  </tbody>\n",
       "</table>\n",
       "</div>"
      ],
      "text/plain": [
       "     AgeGroup  DeathRate\n",
       "0   1-4 Years     1983.8\n",
       "5   1-4 Years     1498.9\n",
       "10  1-4 Years     1397.3"
      ]
     },
     "execution_count": 50,
     "metadata": {},
     "output_type": "execute_result"
    }
   ],
   "source": [
    "# 47. Using loc[] accessor with lists for row and column labels, display row values for 0, 5, and 10 index 'labels',\n",
    "# only for AgeGroup and DeathRate columns')\n",
    "mortality_data.loc[[0,5,10],['AgeGroup', 'DeathRate']]"
   ]
  },
  {
   "cell_type": "code",
   "execution_count": 51,
   "id": "65b84509-e23d-4f91-9367-0fef9370734d",
   "metadata": {},
   "outputs": [
    {
     "data": {
      "text/html": [
       "<div>\n",
       "<style scoped>\n",
       "    .dataframe tbody tr th:only-of-type {\n",
       "        vertical-align: middle;\n",
       "    }\n",
       "\n",
       "    .dataframe tbody tr th {\n",
       "        vertical-align: top;\n",
       "    }\n",
       "\n",
       "    .dataframe thead th {\n",
       "        text-align: right;\n",
       "    }\n",
       "</style>\n",
       "<table border=\"1\" class=\"dataframe\">\n",
       "  <thead>\n",
       "    <tr style=\"text-align: right;\">\n",
       "      <th></th>\n",
       "      <th>AgeGroup</th>\n",
       "      <th>DeathRate</th>\n",
       "    </tr>\n",
       "  </thead>\n",
       "  <tbody>\n",
       "    <tr>\n",
       "      <th>4</th>\n",
       "      <td>1-4 Years</td>\n",
       "      <td>1591.5</td>\n",
       "    </tr>\n",
       "    <tr>\n",
       "      <th>5</th>\n",
       "      <td>1-4 Years</td>\n",
       "      <td>1498.9</td>\n",
       "    </tr>\n",
       "    <tr>\n",
       "      <th>6</th>\n",
       "      <td>1-4 Years</td>\n",
       "      <td>1580.0</td>\n",
       "    </tr>\n",
       "  </tbody>\n",
       "</table>\n",
       "</div>"
      ],
      "text/plain": [
       "    AgeGroup  DeathRate\n",
       "4  1-4 Years     1591.5\n",
       "5  1-4 Years     1498.9\n",
       "6  1-4 Years     1580.0"
      ]
     },
     "execution_count": 51,
     "metadata": {},
     "output_type": "execute_result"
    }
   ],
   "source": [
    "# 48. Here, using slices of rows and column labels\n",
    "mortality_data.loc[4:6,'AgeGroup':'DeathRate']"
   ]
  },
  {
   "cell_type": "markdown",
   "id": "7b6b8285-98d4-4505-a81c-a248f9de83a1",
   "metadata": {},
   "source": [
    "## Access rows with iloc[] accessor"
   ]
  },
  {
   "cell_type": "code",
   "execution_count": 52,
   "id": "3c633ddc-d325-40fa-88a7-567adec8a89b",
   "metadata": {},
   "outputs": [
    {
     "data": {
      "text/html": [
       "<div>\n",
       "<style scoped>\n",
       "    .dataframe tbody tr th:only-of-type {\n",
       "        vertical-align: middle;\n",
       "    }\n",
       "\n",
       "    .dataframe tbody tr th {\n",
       "        vertical-align: top;\n",
       "    }\n",
       "\n",
       "    .dataframe thead th {\n",
       "        text-align: right;\n",
       "    }\n",
       "</style>\n",
       "<table border=\"1\" class=\"dataframe\">\n",
       "  <thead>\n",
       "    <tr style=\"text-align: right;\">\n",
       "      <th></th>\n",
       "      <th>Year</th>\n",
       "      <th>AgeGroup</th>\n",
       "      <th>DeathRate</th>\n",
       "    </tr>\n",
       "  </thead>\n",
       "  <tbody>\n",
       "    <tr>\n",
       "      <th>0</th>\n",
       "      <td>1900</td>\n",
       "      <td>1-4 Years</td>\n",
       "      <td>1983.8</td>\n",
       "    </tr>\n",
       "    <tr>\n",
       "      <th>5</th>\n",
       "      <td>1905</td>\n",
       "      <td>1-4 Years</td>\n",
       "      <td>1498.9</td>\n",
       "    </tr>\n",
       "    <tr>\n",
       "      <th>10</th>\n",
       "      <td>1910</td>\n",
       "      <td>1-4 Years</td>\n",
       "      <td>1397.3</td>\n",
       "    </tr>\n",
       "  </tbody>\n",
       "</table>\n",
       "</div>"
      ],
      "text/plain": [
       "    Year   AgeGroup  DeathRate\n",
       "0   1900  1-4 Years     1983.8\n",
       "5   1905  1-4 Years     1498.9\n",
       "10  1910  1-4 Years     1397.3"
      ]
     },
     "execution_count": 52,
     "metadata": {},
     "output_type": "execute_result"
    }
   ],
   "source": [
    "# https://pandas.pydata.org/docs/user_guide/indexing.html#selection-by-position\n",
    "# access rows with iloc[] accessor (by positions) using list or slice, here using list\n",
    "# 49. Display first, sixth, and 11th rows (Note: iloc[] interpreted as 'integer' position of index--not lable!)\n",
    "mortality_data.iloc[[0,5,10]]"
   ]
  },
  {
   "cell_type": "code",
   "execution_count": 53,
   "id": "8f9046ae-ad9b-4984-8d05-7ee0dc47d6c3",
   "metadata": {},
   "outputs": [
    {
     "data": {
      "text/html": [
       "<div>\n",
       "<style scoped>\n",
       "    .dataframe tbody tr th:only-of-type {\n",
       "        vertical-align: middle;\n",
       "    }\n",
       "\n",
       "    .dataframe tbody tr th {\n",
       "        vertical-align: top;\n",
       "    }\n",
       "\n",
       "    .dataframe thead th {\n",
       "        text-align: right;\n",
       "    }\n",
       "</style>\n",
       "<table border=\"1\" class=\"dataframe\">\n",
       "  <thead>\n",
       "    <tr style=\"text-align: right;\">\n",
       "      <th></th>\n",
       "      <th>Year</th>\n",
       "      <th>AgeGroup</th>\n",
       "      <th>DeathRate</th>\n",
       "    </tr>\n",
       "  </thead>\n",
       "  <tbody>\n",
       "    <tr>\n",
       "      <th>0</th>\n",
       "      <td>1900</td>\n",
       "      <td>1-4 Years</td>\n",
       "      <td>1983.8</td>\n",
       "    </tr>\n",
       "    <tr>\n",
       "      <th>1</th>\n",
       "      <td>1901</td>\n",
       "      <td>1-4 Years</td>\n",
       "      <td>1695.0</td>\n",
       "    </tr>\n",
       "    <tr>\n",
       "      <th>2</th>\n",
       "      <td>1902</td>\n",
       "      <td>1-4 Years</td>\n",
       "      <td>1655.7</td>\n",
       "    </tr>\n",
       "    <tr>\n",
       "      <th>3</th>\n",
       "      <td>1903</td>\n",
       "      <td>1-4 Years</td>\n",
       "      <td>1542.1</td>\n",
       "    </tr>\n",
       "    <tr>\n",
       "      <th>4</th>\n",
       "      <td>1904</td>\n",
       "      <td>1-4 Years</td>\n",
       "      <td>1591.5</td>\n",
       "    </tr>\n",
       "    <tr>\n",
       "      <th>5</th>\n",
       "      <td>1905</td>\n",
       "      <td>1-4 Years</td>\n",
       "      <td>1498.9</td>\n",
       "    </tr>\n",
       "    <tr>\n",
       "      <th>6</th>\n",
       "      <td>1906</td>\n",
       "      <td>1-4 Years</td>\n",
       "      <td>1580.0</td>\n",
       "    </tr>\n",
       "    <tr>\n",
       "      <th>7</th>\n",
       "      <td>1907</td>\n",
       "      <td>1-4 Years</td>\n",
       "      <td>1468.3</td>\n",
       "    </tr>\n",
       "    <tr>\n",
       "      <th>8</th>\n",
       "      <td>1908</td>\n",
       "      <td>1-4 Years</td>\n",
       "      <td>1396.8</td>\n",
       "    </tr>\n",
       "    <tr>\n",
       "      <th>9</th>\n",
       "      <td>1909</td>\n",
       "      <td>1-4 Years</td>\n",
       "      <td>1348.9</td>\n",
       "    </tr>\n",
       "    <tr>\n",
       "      <th>10</th>\n",
       "      <td>1910</td>\n",
       "      <td>1-4 Years</td>\n",
       "      <td>1397.3</td>\n",
       "    </tr>\n",
       "  </tbody>\n",
       "</table>\n",
       "</div>"
      ],
      "text/plain": [
       "    Year   AgeGroup  DeathRate\n",
       "0   1900  1-4 Years     1983.8\n",
       "1   1901  1-4 Years     1695.0\n",
       "2   1902  1-4 Years     1655.7\n",
       "3   1903  1-4 Years     1542.1\n",
       "4   1904  1-4 Years     1591.5\n",
       "5   1905  1-4 Years     1498.9\n",
       "6   1906  1-4 Years     1580.0\n",
       "7   1907  1-4 Years     1468.3\n",
       "8   1908  1-4 Years     1396.8\n",
       "9   1909  1-4 Years     1348.9\n",
       "10  1910  1-4 Years     1397.3"
      ]
     },
     "execution_count": 53,
     "metadata": {},
     "output_type": "execute_result"
    }
   ],
   "source": [
    "# 50. verify index 'positions' and row values\n",
    "mortality_data.head(11)"
   ]
  },
  {
   "cell_type": "code",
   "execution_count": 55,
   "id": "99399b03-bf96-4405-92af-b82c8e05bd1b",
   "metadata": {},
   "outputs": [
    {
     "data": {
      "text/html": [
       "<div>\n",
       "<style scoped>\n",
       "    .dataframe tbody tr th:only-of-type {\n",
       "        vertical-align: middle;\n",
       "    }\n",
       "\n",
       "    .dataframe tbody tr th {\n",
       "        vertical-align: top;\n",
       "    }\n",
       "\n",
       "    .dataframe thead th {\n",
       "        text-align: right;\n",
       "    }\n",
       "</style>\n",
       "<table border=\"1\" class=\"dataframe\">\n",
       "  <thead>\n",
       "    <tr style=\"text-align: right;\">\n",
       "      <th></th>\n",
       "      <th>Year</th>\n",
       "      <th>AgeGroup</th>\n",
       "      <th>DeathRate</th>\n",
       "    </tr>\n",
       "  </thead>\n",
       "  <tbody>\n",
       "    <tr>\n",
       "      <th>4</th>\n",
       "      <td>1904</td>\n",
       "      <td>1-4 Years</td>\n",
       "      <td>1591.5</td>\n",
       "    </tr>\n",
       "    <tr>\n",
       "      <th>5</th>\n",
       "      <td>1905</td>\n",
       "      <td>1-4 Years</td>\n",
       "      <td>1498.9</td>\n",
       "    </tr>\n",
       "  </tbody>\n",
       "</table>\n",
       "</div>"
      ],
      "text/plain": [
       "   Year   AgeGroup  DeathRate\n",
       "4  1904  1-4 Years     1591.5\n",
       "5  1905  1-4 Years     1498.9"
      ]
     },
     "execution_count": 55,
     "metadata": {},
     "output_type": "execute_result"
    }
   ],
   "source": [
    "# 51. Access rows using *slice* (Note: iloc[] accessor does *not* include stop value!)\n",
    "# generic syntax: loc[start:stop:step]\n",
    "mortality_data.iloc[4:6]"
   ]
  },
  {
   "cell_type": "code",
   "execution_count": 56,
   "id": "cf4ca1bd-9dc4-4e99-b9e4-1d92ce52bba0",
   "metadata": {},
   "outputs": [
    {
     "data": {
      "text/html": [
       "<div>\n",
       "<style scoped>\n",
       "    .dataframe tbody tr th:only-of-type {\n",
       "        vertical-align: middle;\n",
       "    }\n",
       "\n",
       "    .dataframe tbody tr th {\n",
       "        vertical-align: top;\n",
       "    }\n",
       "\n",
       "    .dataframe thead th {\n",
       "        text-align: right;\n",
       "    }\n",
       "</style>\n",
       "<table border=\"1\" class=\"dataframe\">\n",
       "  <thead>\n",
       "    <tr style=\"text-align: right;\">\n",
       "      <th></th>\n",
       "      <th>Year</th>\n",
       "      <th>AgeGroup</th>\n",
       "      <th>DeathRate</th>\n",
       "    </tr>\n",
       "  </thead>\n",
       "  <tbody>\n",
       "    <tr>\n",
       "      <th>0</th>\n",
       "      <td>1900</td>\n",
       "      <td>1-4 Years</td>\n",
       "      <td>1983.8</td>\n",
       "    </tr>\n",
       "    <tr>\n",
       "      <th>5</th>\n",
       "      <td>1905</td>\n",
       "      <td>1-4 Years</td>\n",
       "      <td>1498.9</td>\n",
       "    </tr>\n",
       "    <tr>\n",
       "      <th>10</th>\n",
       "      <td>1910</td>\n",
       "      <td>1-4 Years</td>\n",
       "      <td>1397.3</td>\n",
       "    </tr>\n",
       "    <tr>\n",
       "      <th>15</th>\n",
       "      <td>1915</td>\n",
       "      <td>1-4 Years</td>\n",
       "      <td>924.2</td>\n",
       "    </tr>\n",
       "  </tbody>\n",
       "</table>\n",
       "</div>"
      ],
      "text/plain": [
       "    Year   AgeGroup  DeathRate\n",
       "0   1900  1-4 Years     1983.8\n",
       "5   1905  1-4 Years     1498.9\n",
       "10  1910  1-4 Years     1397.3\n",
       "15  1915  1-4 Years      924.2"
      ]
     },
     "execution_count": 56,
     "metadata": {},
     "output_type": "execute_result"
    }
   ],
   "source": [
    "# 52. Access rows using *slice*, include start, stop, and step values (Note: iloc[] accessor does *not* include stop value!)\n",
    "mortality_data.iloc[0:20:5]"
   ]
  },
  {
   "cell_type": "markdown",
   "id": "5bbd74b9-0b41-4ed0-b243-583f491397cb",
   "metadata": {},
   "source": [
    "## Access subset of rows and columns with iloc[] accessor--can use negative values"
   ]
  },
  {
   "cell_type": "code",
   "execution_count": 58,
   "id": "497ea933-2575-4ce4-a86c-8ccd521f81c6",
   "metadata": {},
   "outputs": [
    {
     "data": {
      "text/html": [
       "<div>\n",
       "<style scoped>\n",
       "    .dataframe tbody tr th:only-of-type {\n",
       "        vertical-align: middle;\n",
       "    }\n",
       "\n",
       "    .dataframe tbody tr th {\n",
       "        vertical-align: top;\n",
       "    }\n",
       "\n",
       "    .dataframe thead th {\n",
       "        text-align: right;\n",
       "    }\n",
       "</style>\n",
       "<table border=\"1\" class=\"dataframe\">\n",
       "  <thead>\n",
       "    <tr style=\"text-align: right;\">\n",
       "      <th></th>\n",
       "      <th>AgeGroup</th>\n",
       "      <th>DeathRate</th>\n",
       "    </tr>\n",
       "  </thead>\n",
       "  <tbody>\n",
       "    <tr>\n",
       "      <th>0</th>\n",
       "      <td>1-4 Years</td>\n",
       "      <td>1983.8</td>\n",
       "    </tr>\n",
       "    <tr>\n",
       "      <th>5</th>\n",
       "      <td>1-4 Years</td>\n",
       "      <td>1498.9</td>\n",
       "    </tr>\n",
       "    <tr>\n",
       "      <th>10</th>\n",
       "      <td>1-4 Years</td>\n",
       "      <td>1397.3</td>\n",
       "    </tr>\n",
       "  </tbody>\n",
       "</table>\n",
       "</div>"
      ],
      "text/plain": [
       "     AgeGroup  DeathRate\n",
       "0   1-4 Years     1983.8\n",
       "5   1-4 Years     1498.9\n",
       "10  1-4 Years     1397.3"
      ]
     },
     "execution_count": 58,
     "metadata": {},
     "output_type": "execute_result"
    }
   ],
   "source": [
    "# 53. Display rows and columns using index positions and lists\n",
    "mortality_data.iloc[[0,5,10],[1,2]]"
   ]
  },
  {
   "cell_type": "code",
   "execution_count": 59,
   "id": "9d2bf69e-7a08-4668-ba6a-f6e0d5a0b366",
   "metadata": {},
   "outputs": [
    {
     "data": {
      "text/html": [
       "<div>\n",
       "<style scoped>\n",
       "    .dataframe tbody tr th:only-of-type {\n",
       "        vertical-align: middle;\n",
       "    }\n",
       "\n",
       "    .dataframe tbody tr th {\n",
       "        vertical-align: top;\n",
       "    }\n",
       "\n",
       "    .dataframe thead th {\n",
       "        text-align: right;\n",
       "    }\n",
       "</style>\n",
       "<table border=\"1\" class=\"dataframe\">\n",
       "  <thead>\n",
       "    <tr style=\"text-align: right;\">\n",
       "      <th></th>\n",
       "      <th>AgeGroup</th>\n",
       "      <th>DeathRate</th>\n",
       "    </tr>\n",
       "  </thead>\n",
       "  <tbody>\n",
       "    <tr>\n",
       "      <th>4</th>\n",
       "      <td>1-4 Years</td>\n",
       "      <td>1591.5</td>\n",
       "    </tr>\n",
       "    <tr>\n",
       "      <th>5</th>\n",
       "      <td>1-4 Years</td>\n",
       "      <td>1498.9</td>\n",
       "    </tr>\n",
       "    <tr>\n",
       "      <th>6</th>\n",
       "      <td>1-4 Years</td>\n",
       "      <td>1580.0</td>\n",
       "    </tr>\n",
       "  </tbody>\n",
       "</table>\n",
       "</div>"
      ],
      "text/plain": [
       "    AgeGroup  DeathRate\n",
       "4  1-4 Years     1591.5\n",
       "5  1-4 Years     1498.9\n",
       "6  1-4 Years     1580.0"
      ]
     },
     "execution_count": 59,
     "metadata": {},
     "output_type": "execute_result"
    }
   ],
   "source": [
    "# 54. Display rows and columns using index positions and slices\n",
    "mortality_data.iloc[4:7,1:3]"
   ]
  },
  {
   "cell_type": "code",
   "execution_count": 60,
   "id": "bf893221-b290-4704-89fc-42c661a9ce49",
   "metadata": {},
   "outputs": [
    {
     "data": {
      "text/html": [
       "<div>\n",
       "<style scoped>\n",
       "    .dataframe tbody tr th:only-of-type {\n",
       "        vertical-align: middle;\n",
       "    }\n",
       "\n",
       "    .dataframe tbody tr th {\n",
       "        vertical-align: top;\n",
       "    }\n",
       "\n",
       "    .dataframe thead th {\n",
       "        text-align: right;\n",
       "    }\n",
       "</style>\n",
       "<table border=\"1\" class=\"dataframe\">\n",
       "  <thead>\n",
       "    <tr style=\"text-align: right;\">\n",
       "      <th></th>\n",
       "      <th>Year</th>\n",
       "      <th>AgeGroup</th>\n",
       "      <th>DeathRate</th>\n",
       "    </tr>\n",
       "  </thead>\n",
       "  <tbody>\n",
       "    <tr>\n",
       "      <th>466</th>\n",
       "      <td>2009</td>\n",
       "      <td>15-19 Years</td>\n",
       "      <td>51.9</td>\n",
       "    </tr>\n",
       "    <tr>\n",
       "      <th>467</th>\n",
       "      <td>2010</td>\n",
       "      <td>15-19 Years</td>\n",
       "      <td>49.4</td>\n",
       "    </tr>\n",
       "    <tr>\n",
       "      <th>468</th>\n",
       "      <td>2011</td>\n",
       "      <td>15-19 Years</td>\n",
       "      <td>48.9</td>\n",
       "    </tr>\n",
       "    <tr>\n",
       "      <th>469</th>\n",
       "      <td>2012</td>\n",
       "      <td>15-19 Years</td>\n",
       "      <td>47.2</td>\n",
       "    </tr>\n",
       "    <tr>\n",
       "      <th>470</th>\n",
       "      <td>2013</td>\n",
       "      <td>15-19 Years</td>\n",
       "      <td>44.8</td>\n",
       "    </tr>\n",
       "    <tr>\n",
       "      <th>471</th>\n",
       "      <td>2014</td>\n",
       "      <td>15-19 Years</td>\n",
       "      <td>45.5</td>\n",
       "    </tr>\n",
       "    <tr>\n",
       "      <th>472</th>\n",
       "      <td>2015</td>\n",
       "      <td>15-19 Years</td>\n",
       "      <td>48.3</td>\n",
       "    </tr>\n",
       "    <tr>\n",
       "      <th>473</th>\n",
       "      <td>2016</td>\n",
       "      <td>15-19 Years</td>\n",
       "      <td>51.2</td>\n",
       "    </tr>\n",
       "    <tr>\n",
       "      <th>474</th>\n",
       "      <td>2017</td>\n",
       "      <td>15-19 Years</td>\n",
       "      <td>51.5</td>\n",
       "    </tr>\n",
       "    <tr>\n",
       "      <th>475</th>\n",
       "      <td>2018</td>\n",
       "      <td>15-19 Years</td>\n",
       "      <td>49.2</td>\n",
       "    </tr>\n",
       "  </tbody>\n",
       "</table>\n",
       "</div>"
      ],
      "text/plain": [
       "     Year     AgeGroup  DeathRate\n",
       "466  2009  15-19 Years       51.9\n",
       "467  2010  15-19 Years       49.4\n",
       "468  2011  15-19 Years       48.9\n",
       "469  2012  15-19 Years       47.2\n",
       "470  2013  15-19 Years       44.8\n",
       "471  2014  15-19 Years       45.5\n",
       "472  2015  15-19 Years       48.3\n",
       "473  2016  15-19 Years       51.2\n",
       "474  2017  15-19 Years       51.5\n",
       "475  2018  15-19 Years       49.2"
      ]
     },
     "execution_count": 60,
     "metadata": {},
     "output_type": "execute_result"
    }
   ],
   "source": [
    "# 55. Use iloc[] accessor with negative value\n",
    "mortality_data.iloc[-10:]"
   ]
  },
  {
   "cell_type": "code",
   "execution_count": null,
   "id": "d8dda919-1631-45c3-a30b-eafc1c1e1235",
   "metadata": {},
   "outputs": [],
   "source": []
  }
 ],
 "metadata": {
  "kernelspec": {
   "display_name": "Python 3 (ipykernel)",
   "language": "python",
   "name": "python3"
  },
  "language_info": {
   "codemirror_mode": {
    "name": "ipython",
    "version": 3
   },
   "file_extension": ".py",
   "mimetype": "text/x-python",
   "name": "python",
   "nbconvert_exporter": "python",
   "pygments_lexer": "ipython3",
   "version": "3.12.7"
  }
 },
 "nbformat": 4,
 "nbformat_minor": 5
}
