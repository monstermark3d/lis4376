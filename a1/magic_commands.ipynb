{
 "cells": [
  {
   "cell_type": "markdown",
   "id": "e1c133a1-6289-4649-9ed6-94159018ad72",
   "metadata": {},
   "source": [
    "## Magic Commands"
   ]
  },
  {
   "cell_type": "code",
   "execution_count": null,
   "id": "d58d880f-3974-4301-a046-dca803262700",
   "metadata": {
    "jupyter": {
     "source_hidden": true
    }
   },
   "outputs": [],
   "source": [
    "# https://www.aboutdatalog.com/post/top-8-magic-commands-in-jupyter-notebook\n",
    "# https://ipython.readthedocs.io/en/stable/interactive/magics.html\n",
    "\n",
    "# Magic Commands:\n",
    "# Special commands that help with running and analyzing data in Jupyter notebooks.\n",
    "# Sincle % for one line of code, or double %% for several lines of code."
   ]
  },
  {
   "cell_type": "markdown",
   "id": "d84c5166-80c1-4315-9f73-a85ddad2fd51",
   "metadata": {
    "jupyter": {
     "source_hidden": true
    }
   },
   "source": [
    "## 1. List all magic commands: %lsmagic"
   ]
  },
  {
   "cell_type": "code",
   "execution_count": null,
   "id": "fe8e5a3e-9412-4836-bdc0-370a3e9ca937",
   "metadata": {},
   "outputs": [],
   "source": [
    "%lsmagic"
   ]
  },
  {
   "cell_type": "code",
   "execution_count": null,
   "id": "adbd6652-b07b-404b-a166-15331cbc61c9",
   "metadata": {},
   "outputs": [],
   "source": [
    "# example line magic\n",
    "%ls"
   ]
  },
  {
   "cell_type": "markdown",
   "id": "c650208b-96f7-4329-8967-f992fdb30950",
   "metadata": {},
   "source": [
    "## 2. Run file: %run"
   ]
  },
  {
   "cell_type": "code",
   "execution_count": null,
   "id": "c91953bf-e2f1-4d6e-890a-d6473176142d",
   "metadata": {},
   "outputs": [],
   "source": [
    "# example run file\n",
    "%run hello.py"
   ]
  },
  {
   "cell_type": "markdown",
   "id": "9bfdf7a6-6fa2-4d03-9c53-927642024632",
   "metadata": {},
   "source": [
    "## 3. Load file: %load\n",
    "#### **Note:** %run runs file: %load loads file into cell"
   ]
  },
  {
   "cell_type": "code",
   "execution_count": null,
   "id": "323451f4-4d2c-48f7-ba9d-338535716776",
   "metadata": {},
   "outputs": [],
   "source": [
    "# %load hello.py\n",
    "# Note: File was loaded into cell, then cell code modified!\n",
    "\n",
    "# print('Hello, world')\n",
    "\n",
    "# or, create function\n",
    "def hello_test():\n",
    "    print('Hello, test!')\n",
    "\n",
    "hello_test()"
   ]
  },
  {
   "cell_type": "markdown",
   "id": "df04cb7a-3ddd-409a-bf1b-5e7b9afb41b4",
   "metadata": {},
   "source": [
    "## 4. Return execution time: %%time\n",
    "#### **Note:** %%time is 'cell magic, ' and **must be** first line in Jupyter notebook cell."
   ]
  },
  {
   "cell_type": "code",
   "execution_count": null,
   "id": "023eb07e-98cc-4720-b7a4-2cc5de4c07ec",
   "metadata": {},
   "outputs": [],
   "source": [
    "%%time\n",
    "import random\n",
    "for i in range(0, 1000000):\n",
    "    random.random\n",
    "\n",
    "# display time to generate 1,000,000 random numbers\n",
    "# Note: Placing these comments above code generates an error!"
   ]
  },
  {
   "cell_type": "markdown",
   "id": "30b22113-db2a-4d0f-83f0-9636d6898bb1",
   "metadata": {},
   "source": [
    "## 5. List all varables: %who"
   ]
  },
  {
   "cell_type": "code",
   "execution_count": null,
   "id": "4c2fdd3d-f9f4-4686-bc71-0ecbde1182fb",
   "metadata": {},
   "outputs": [],
   "source": [
    "# example\n",
    "my_var1 = 1\n",
    "my_var2 = 'hello'\n",
    "my_var3 = True"
   ]
  },
  {
   "cell_type": "code",
   "execution_count": null,
   "id": "eed3fa2b-5ee6-4b32-bae1-e793498f8b40",
   "metadata": {},
   "outputs": [],
   "source": [
    "# List all variables\n",
    "%who"
   ]
  },
  {
   "cell_type": "code",
   "execution_count": null,
   "id": "fcbb98e7-382d-43f2-8aa0-86cf66c53049",
   "metadata": {},
   "outputs": [],
   "source": [
    "# List specific variables\n",
    "%who bool"
   ]
  },
  {
   "cell_type": "markdown",
   "id": "637677f9-6ff7-4284-8b78-9d49d3b7f8ff",
   "metadata": {},
   "source": [
    "## 6. Display variable details: %pinfo"
   ]
  },
  {
   "cell_type": "code",
   "execution_count": null,
   "id": "3d2d2fcc-c096-441d-886d-25a4fe8c73d1",
   "metadata": {},
   "outputs": [],
   "source": [
    "# example (note: includes length of sting)\n",
    "%pinfo my_var2"
   ]
  },
  {
   "cell_type": "markdown",
   "id": "f9f3bbdf-e828-404a-b68b-ff51b84b8fb9",
   "metadata": {},
   "source": [
    "## 7. Get/set environmental variables: %env"
   ]
  },
  {
   "cell_type": "code",
   "execution_count": null,
   "id": "8b277860-d440-407d-99bf-dec8550119f3",
   "metadata": {},
   "outputs": [],
   "source": [
    "# example: List environmental variables\n",
    "%env"
   ]
  },
  {
   "cell_type": "code",
   "execution_count": null,
   "id": "490a4ca1-6d9a-45a0-b084-3ca8dc491e49",
   "metadata": {},
   "outputs": [],
   "source": [
    "# add new environmental variable called MY_VAR:\n",
    "# env MY_VAR=Users/someuser"
   ]
  },
  {
   "cell_type": "code",
   "execution_count": null,
   "id": "ae8b0d00-67fd-4b22-90d1-8c7eb8d82d22",
   "metadata": {},
   "outputs": [],
   "source": [
    "# check specific environmental variable value\n",
    "%env JAVA_HOME"
   ]
  }
 ],
 "metadata": {
  "kernelspec": {
   "display_name": "Python 3 (ipykernel)",
   "language": "python",
   "name": "python3"
  },
  "language_info": {
   "codemirror_mode": {
    "name": "ipython",
    "version": 3
   },
   "file_extension": ".py",
   "mimetype": "text/x-python",
   "name": "python",
   "nbconvert_exporter": "python",
   "pygments_lexer": "ipython3",
   "version": "3.12.7"
  }
 },
 "nbformat": 4,
 "nbformat_minor": 5
}
