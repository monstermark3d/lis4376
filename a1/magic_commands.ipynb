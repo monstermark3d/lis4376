{
 "cells": [
  {
   "cell_type": "markdown",
   "id": "e1c133a1-6289-4649-9ed6-94159018ad72",
   "metadata": {},
   "source": [
    "## Magic Commands"
   ]
  },
  {
   "cell_type": "code",
   "execution_count": 1,
   "id": "d58d880f-3974-4301-a046-dca803262700",
   "metadata": {
    "jupyter": {
     "source_hidden": true
    }
   },
   "outputs": [],
   "source": [
    "# https://www.aboutdatalog.com/post/top-8-magic-commands-in-jupyter-notebook\n",
    "# https://ipython.readthedocs.io/en/stable/interactive/magics.html\n",
    "\n",
    "# Magic Commands:\n",
    "# Special commands that help with running and analyzing data in Jupyter notebooks.\n",
    "# Sincle % for one line of code, or double %% for several lines of code."
   ]
  },
  {
   "cell_type": "markdown",
   "id": "d84c5166-80c1-4315-9f73-a85ddad2fd51",
   "metadata": {},
   "source": [
    "## 1. List all magic commands: %lsmagic"
   ]
  },
  {
   "cell_type": "code",
   "execution_count": 2,
   "id": "fe8e5a3e-9412-4836-bdc0-370a3e9ca937",
   "metadata": {},
   "outputs": [
    {
     "data": {
      "application/json": {
       "cell": {
        "!": "OSMagics",
        "HTML": "Other",
        "SVG": "Other",
        "bash": "Other",
        "capture": "ExecutionMagics",
        "cmd": "Other",
        "code_wrap": "ExecutionMagics",
        "debug": "ExecutionMagics",
        "file": "Other",
        "html": "DisplayMagics",
        "javascript": "DisplayMagics",
        "js": "DisplayMagics",
        "latex": "DisplayMagics",
        "markdown": "DisplayMagics",
        "perl": "Other",
        "prun": "ExecutionMagics",
        "pypy": "Other",
        "python": "Other",
        "python2": "Other",
        "python3": "Other",
        "ruby": "Other",
        "script": "ScriptMagics",
        "sh": "Other",
        "svg": "DisplayMagics",
        "sx": "OSMagics",
        "system": "OSMagics",
        "time": "ExecutionMagics",
        "timeit": "ExecutionMagics",
        "writefile": "OSMagics"
       },
       "line": {
        "alias": "OSMagics",
        "alias_magic": "BasicMagics",
        "autoawait": "AsyncMagics",
        "autocall": "AutoMagics",
        "automagic": "AutoMagics",
        "autosave": "KernelMagics",
        "bookmark": "OSMagics",
        "cd": "OSMagics",
        "clear": "KernelMagics",
        "cls": "KernelMagics",
        "code_wrap": "ExecutionMagics",
        "colors": "BasicMagics",
        "conda": "PackagingMagics",
        "config": "ConfigMagics",
        "connect_info": "KernelMagics",
        "copy": "Other",
        "ddir": "Other",
        "debug": "ExecutionMagics",
        "dhist": "OSMagics",
        "dirs": "OSMagics",
        "doctest_mode": "BasicMagics",
        "echo": "Other",
        "ed": "Other",
        "edit": "KernelMagics",
        "env": "OSMagics",
        "gui": "BasicMagics",
        "hist": "Other",
        "history": "HistoryMagics",
        "killbgscripts": "ScriptMagics",
        "ldir": "Other",
        "less": "KernelMagics",
        "load": "CodeMagics",
        "load_ext": "ExtensionMagics",
        "loadpy": "CodeMagics",
        "logoff": "LoggingMagics",
        "logon": "LoggingMagics",
        "logstart": "LoggingMagics",
        "logstate": "LoggingMagics",
        "logstop": "LoggingMagics",
        "ls": "Other",
        "lsmagic": "BasicMagics",
        "macro": "ExecutionMagics",
        "magic": "BasicMagics",
        "mamba": "PackagingMagics",
        "matplotlib": "PylabMagics",
        "micromamba": "PackagingMagics",
        "mkdir": "Other",
        "more": "KernelMagics",
        "notebook": "BasicMagics",
        "page": "BasicMagics",
        "pastebin": "CodeMagics",
        "pdb": "ExecutionMagics",
        "pdef": "NamespaceMagics",
        "pdoc": "NamespaceMagics",
        "pfile": "NamespaceMagics",
        "pinfo": "NamespaceMagics",
        "pinfo2": "NamespaceMagics",
        "pip": "PackagingMagics",
        "popd": "OSMagics",
        "pprint": "BasicMagics",
        "precision": "BasicMagics",
        "prun": "ExecutionMagics",
        "psearch": "NamespaceMagics",
        "psource": "NamespaceMagics",
        "pushd": "OSMagics",
        "pwd": "OSMagics",
        "pycat": "OSMagics",
        "pylab": "PylabMagics",
        "qtconsole": "KernelMagics",
        "quickref": "BasicMagics",
        "recall": "HistoryMagics",
        "rehashx": "OSMagics",
        "reload_ext": "ExtensionMagics",
        "ren": "Other",
        "rep": "Other",
        "rerun": "HistoryMagics",
        "reset": "NamespaceMagics",
        "reset_selective": "NamespaceMagics",
        "rmdir": "Other",
        "run": "ExecutionMagics",
        "save": "CodeMagics",
        "sc": "OSMagics",
        "set_env": "OSMagics",
        "store": "StoreMagics",
        "sx": "OSMagics",
        "system": "OSMagics",
        "tb": "ExecutionMagics",
        "time": "ExecutionMagics",
        "timeit": "ExecutionMagics",
        "unalias": "OSMagics",
        "unload_ext": "ExtensionMagics",
        "who": "NamespaceMagics",
        "who_ls": "NamespaceMagics",
        "whos": "NamespaceMagics",
        "xdel": "NamespaceMagics",
        "xmode": "BasicMagics"
       }
      },
      "text/plain": [
       "Available line magics:\n",
       "%alias  %alias_magic  %autoawait  %autocall  %automagic  %autosave  %bookmark  %cd  %clear  %cls  %code_wrap  %colors  %conda  %config  %connect_info  %copy  %ddir  %debug  %dhist  %dirs  %doctest_mode  %echo  %ed  %edit  %env  %gui  %hist  %history  %killbgscripts  %ldir  %less  %load  %load_ext  %loadpy  %logoff  %logon  %logstart  %logstate  %logstop  %ls  %lsmagic  %macro  %magic  %mamba  %matplotlib  %micromamba  %mkdir  %more  %notebook  %page  %pastebin  %pdb  %pdef  %pdoc  %pfile  %pinfo  %pinfo2  %pip  %popd  %pprint  %precision  %prun  %psearch  %psource  %pushd  %pwd  %pycat  %pylab  %qtconsole  %quickref  %recall  %rehashx  %reload_ext  %ren  %rep  %rerun  %reset  %reset_selective  %rmdir  %run  %save  %sc  %set_env  %store  %sx  %system  %tb  %time  %timeit  %unalias  %unload_ext  %who  %who_ls  %whos  %xdel  %xmode\n",
       "\n",
       "Available cell magics:\n",
       "%%!  %%HTML  %%SVG  %%bash  %%capture  %%cmd  %%code_wrap  %%debug  %%file  %%html  %%javascript  %%js  %%latex  %%markdown  %%perl  %%prun  %%pypy  %%python  %%python2  %%python3  %%ruby  %%script  %%sh  %%svg  %%sx  %%system  %%time  %%timeit  %%writefile\n",
       "\n",
       "Automagic is ON, % prefix IS NOT needed for line magics."
      ]
     },
     "execution_count": 2,
     "metadata": {},
     "output_type": "execute_result"
    }
   ],
   "source": [
    "%lsmagic"
   ]
  },
  {
   "cell_type": "code",
   "execution_count": 3,
   "id": "adbd6652-b07b-404b-a166-15331cbc61c9",
   "metadata": {},
   "outputs": [
    {
     "name": "stdout",
     "output_type": "stream",
     "text": [
      " Volume in drive C is OS\n",
      " Volume Serial Number is 000F-3DFB\n",
      "\n",
      " Directory of C:\\Users\\micro\\Documents\\FSU\\Summer2025\\LIS4376\\lis4376\\a1\n",
      "\n",
      "05/19/2025  03:37 PM    <DIR>          .\n",
      "05/21/2025  03:31 PM    <DIR>          ..\n",
      "05/13/2025  02:40 PM    <DIR>          .ipynb_checkpoints\n",
      "05/19/2025  02:41 PM    <DIR>          __pycache__\n",
      "05/13/2025  12:50 PM                 0 demo.py\n",
      "05/12/2025  08:06 PM                33 hello.py\n",
      "05/14/2025  06:44 PM    <DIR>          img\n",
      "05/19/2025  03:37 PM             5,612 magic_commands.ipynb\n",
      "05/19/2025  03:23 PM             3,677 paycheck_calculator.ipynb\n",
      "05/13/2025  10:09 AM             1,942 paycheck_calculator.py\n",
      "05/15/2025  11:15 AM             2,238 README.md\n",
      "05/19/2025  02:43 PM             4,160 run_py_files_in_jupyter_lab.ipynb\n",
      "05/19/2025  02:41 PM                43 test.py\n",
      "               8 File(s)         17,705 bytes\n",
      "               5 Dir(s)  799,241,859,072 bytes free\n"
     ]
    }
   ],
   "source": [
    "# example line magic\n",
    "%ls"
   ]
  },
  {
   "cell_type": "markdown",
   "id": "c650208b-96f7-4329-8967-f992fdb30950",
   "metadata": {},
   "source": [
    "## 2. Run file: %run"
   ]
  },
  {
   "cell_type": "code",
   "execution_count": 4,
   "id": "c91953bf-e2f1-4d6e-890a-d6473176142d",
   "metadata": {},
   "outputs": [
    {
     "name": "stdout",
     "output_type": "stream",
     "text": [
      "Hello World\n"
     ]
    }
   ],
   "source": [
    "# example run file\n",
    "%run hello.py"
   ]
  },
  {
   "cell_type": "markdown",
   "id": "9bfdf7a6-6fa2-4d03-9c53-927642024632",
   "metadata": {},
   "source": [
    "## 3. Load file: %load\n",
    "#### **Note:** %run runs file: %load loads file into cell"
   ]
  },
  {
   "cell_type": "code",
   "execution_count": 5,
   "id": "323451f4-4d2c-48f7-ba9d-338535716776",
   "metadata": {},
   "outputs": [
    {
     "name": "stdout",
     "output_type": "stream",
     "text": [
      "Hello, test!\n"
     ]
    }
   ],
   "source": [
    "# %load hello.py\n",
    "# Note: File was loaded into cell, then cell code modified!\n",
    "\n",
    "# print('Hello, world')\n",
    "\n",
    "# or, create function\n",
    "def hello_test():\n",
    "    print('Hello, test!')\n",
    "\n",
    "hello_test()"
   ]
  },
  {
   "cell_type": "markdown",
   "id": "df04cb7a-3ddd-409a-bf1b-5e7b9afb41b4",
   "metadata": {},
   "source": [
    "## 4. Return execution time: %%time\n",
    "#### **Note:** %%time is 'cell magic, ' and **must be** first line in Jupyter notebook cell."
   ]
  },
  {
   "cell_type": "code",
   "execution_count": 6,
   "id": "023eb07e-98cc-4720-b7a4-2cc5de4c07ec",
   "metadata": {},
   "outputs": [
    {
     "name": "stdout",
     "output_type": "stream",
     "text": [
      "CPU times: total: 172 ms\n",
      "Wall time: 164 ms\n"
     ]
    }
   ],
   "source": [
    "%%time\n",
    "import random\n",
    "for i in range(0, 1000000):\n",
    "    random.random\n",
    "\n",
    "# display time to generate 1,000,000 random numbers\n",
    "# Note: Placing these comments above code generates an error!"
   ]
  },
  {
   "cell_type": "markdown",
   "id": "30b22113-db2a-4d0f-83f0-9636d6898bb1",
   "metadata": {},
   "source": [
    "## 5. List all varables: %who"
   ]
  },
  {
   "cell_type": "code",
   "execution_count": 7,
   "id": "4c2fdd3d-f9f4-4686-bc71-0ecbde1182fb",
   "metadata": {},
   "outputs": [],
   "source": [
    "# example\n",
    "my_var1 = 1\n",
    "my_var2 = 'hello'\n",
    "my_var3 = True"
   ]
  },
  {
   "cell_type": "code",
   "execution_count": 8,
   "id": "eed3fa2b-5ee6-4b32-bae1-e793498f8b40",
   "metadata": {},
   "outputs": [
    {
     "name": "stdout",
     "output_type": "stream",
     "text": [
      "NamespaceMagics\t get_ipython\t hello_test\t i\t json\t msg\t my_var1\t my_var2\t my_var3\t \n",
      "random\t sys\t \n"
     ]
    }
   ],
   "source": [
    "# List all variables\n",
    "%who"
   ]
  },
  {
   "cell_type": "code",
   "execution_count": 9,
   "id": "fcbb98e7-382d-43f2-8aa0-86cf66c53049",
   "metadata": {},
   "outputs": [
    {
     "name": "stdout",
     "output_type": "stream",
     "text": [
      "my_var3\t \n"
     ]
    }
   ],
   "source": [
    "# List specific variables\n",
    "%who bool"
   ]
  },
  {
   "cell_type": "markdown",
   "id": "637677f9-6ff7-4284-8b78-9d49d3b7f8ff",
   "metadata": {},
   "source": [
    "## 6. Display variable details: %pinfo"
   ]
  },
  {
   "cell_type": "code",
   "execution_count": 10,
   "id": "3d2d2fcc-c096-441d-886d-25a4fe8c73d1",
   "metadata": {},
   "outputs": [
    {
     "data": {
      "text/plain": [
       "\u001b[1;31mType:\u001b[0m        str\n",
       "\u001b[1;31mString form:\u001b[0m hello\n",
       "\u001b[1;31mLength:\u001b[0m      5\n",
       "\u001b[1;31mDocstring:\u001b[0m  \n",
       "str(object='') -> str\n",
       "str(bytes_or_buffer[, encoding[, errors]]) -> str\n",
       "\n",
       "Create a new string object from the given object. If encoding or\n",
       "errors is specified, then the object must expose a data buffer\n",
       "that will be decoded using the given encoding and error handler.\n",
       "Otherwise, returns the result of object.__str__() (if defined)\n",
       "or repr(object).\n",
       "encoding defaults to sys.getdefaultencoding().\n",
       "errors defaults to 'strict'."
      ]
     },
     "metadata": {},
     "output_type": "display_data"
    }
   ],
   "source": [
    "# example (note: includes length of sting)\n",
    "%pinfo my_var2"
   ]
  },
  {
   "cell_type": "markdown",
   "id": "f9f3bbdf-e828-404a-b68b-ff51b84b8fb9",
   "metadata": {},
   "source": [
    "## 7. Get/set environmental variables: %env"
   ]
  },
  {
   "cell_type": "code",
   "execution_count": 11,
   "id": "8b277860-d440-407d-99bf-dec8550119f3",
   "metadata": {},
   "outputs": [
    {
     "data": {
      "text/plain": [
       "{'ALLUSERSPROFILE': 'C:\\\\ProgramData',\n",
       " 'APPDATA': 'C:\\\\Users\\\\micro\\\\AppData\\\\Roaming',\n",
       " 'CLASSPATH': '.;C:\\\\Program Files\\\\Java\\\\jdk-21\\\\lib;C:\\\\Users\\\\micro\\\\OneDrive\\\\Documents\\\\FSU\\\\Spring2025\\\\LIS4368\\\\coursework\\\\tomcat\\\\lib',\n",
       " 'COMMONPROGRAMFILES': 'C:\\\\Program Files\\\\Common Files',\n",
       " 'COMMONPROGRAMFILES(X86)': 'C:\\\\Program Files (x86)\\\\Common Files',\n",
       " 'COMMONPROGRAMW6432': 'C:\\\\Program Files\\\\Common Files',\n",
       " 'COMPUTERNAME': 'DESKTOP-MRO2VF5',\n",
       " 'COMSPEC': 'C:\\\\WINDOWS\\\\system32\\\\cmd.exe',\n",
       " 'CONDA_DEFAULT_ENV': 'base',\n",
       " 'CONDA_EXE': 'C:\\\\ProgramData\\\\anaconda3\\\\Scripts\\\\conda.exe',\n",
       " 'CONDA_PREFIX': 'C:\\\\ProgramData\\\\anaconda3',\n",
       " 'CONDA_PROMPT_MODIFIER': '(base) ',\n",
       " 'CONDA_PYTHON_EXE': 'C:\\\\ProgramData\\\\anaconda3\\\\python.exe',\n",
       " 'CONDA_SHLVL': '1',\n",
       " 'DRIVERDATA': 'C:\\\\Windows\\\\System32\\\\Drivers\\\\DriverData',\n",
       " 'EFC_12688_1262719628': '1',\n",
       " 'EFC_12688_1592913036': '1',\n",
       " 'EFC_12688_2283032206': '1',\n",
       " 'EFC_12688_2775293581': '1',\n",
       " 'EFC_12688_3789132940': '1',\n",
       " 'FPS_BROWSER_APP_PROFILE_STRING': 'Internet Explorer',\n",
       " 'FPS_BROWSER_USER_PROFILE_STRING': 'Default',\n",
       " 'HOMEDRIVE': 'C:',\n",
       " 'HOMEPATH': '\\\\Users\\\\micro',\n",
       " 'IGCCSVC_DB': 'AQAAANCMnd8BFdERjHoAwE/Cl+sBAAAAGphBvP9hmkiOEvUHEys7KgQAAAACAAAAAAAQZgAAAAEAACAAAABioobO3HgKYGay1JHGVgyTjnNwGlR2qbntDVQc6F9rdwAAAAAOgAAAAAIAACAAAABgAuWxwcoqqGGpNTOL9jC7CZAtqyysDuBwd8RHvifm4GAAAACoNRqKG3oYY9JVTMVv6x3h6vj10g255BTLFLa7bnF6TS/GIdFXIM9TNkm/OD0fTcJljif49nxEhFSgYwLmfX86H8ZQs4iKVltUYtNpE4yW1P/XDMNL/eHBR0kGW2rpUvxAAAAA7587XuZD+RzIOMdip3h09scJFWiS1d1Vc1ch4GB6fPwgZs5xoqraGnqSkcLmnxwrhkWcWraopUqKPfmZUpLUng==',\n",
       " 'IPY_INTERRUPT_EVENT': '4044',\n",
       " 'JAVA_HOME': 'C:\\\\Program Files\\\\Java\\\\jdk-21',\n",
       " 'JPY_INTERRUPT_EVENT': '4044',\n",
       " 'JPY_PARENT_PID': '1324',\n",
       " 'JPY_SESSION_NAME': 'C:\\\\Users\\\\micro\\\\Documents\\\\FSU\\\\Summer2025\\\\LIS4376\\\\lis4376\\\\a1\\\\magic_commands.ipynb',\n",
       " 'LOCALAPPDATA': 'C:\\\\Users\\\\micro\\\\AppData\\\\Local',\n",
       " 'LOGONSERVER': '\\\\\\\\DESKTOP-MRO2VF5',\n",
       " 'NUMBER_OF_PROCESSORS': '8',\n",
       " 'ONEDRIVE': 'C:\\\\Users\\\\micro\\\\OneDrive',\n",
       " 'OS': 'Windows_NT',\n",
       " 'PATH': 'C:\\\\ProgramData\\\\anaconda3;C:\\\\ProgramData\\\\anaconda3\\\\Library\\\\mingw-w64\\\\bin;C:\\\\ProgramData\\\\anaconda3\\\\Library\\\\usr\\\\bin;C:\\\\ProgramData\\\\anaconda3\\\\Library\\\\bin;C:\\\\ProgramData\\\\anaconda3\\\\Scripts;C:\\\\ProgramData\\\\anaconda3\\\\bin;C:\\\\ProgramData\\\\anaconda3\\\\condabin;C:\\\\Program Files\\\\Common Files\\\\Oracle\\\\Java\\\\javapath;C:\\\\Program Files (x86)\\\\VMware\\\\VMware Workstation\\\\bin;C:\\\\WINDOWS\\\\system32;C:\\\\WINDOWS;C:\\\\WINDOWS\\\\System32\\\\Wbem;C:\\\\WINDOWS\\\\System32\\\\WindowsPowerShell\\\\v1.0;C:\\\\WINDOWS\\\\System32\\\\OpenSSH;C:\\\\Program Files\\\\dotnet;C:\\\\Program Files\\\\PuTTY;C:\\\\Program Files\\\\Git\\\\cmd;C:\\\\Program Files\\\\Ampps\\\\php;C:\\\\Users\\\\micro\\\\OneDrive\\\\Documents\\\\FSU\\\\Spring2025\\\\LIS4368\\\\coursework\\\\tomcat\\\\bin;C:\\\\Program Files\\\\Java\\\\jdk-21\\\\bin;C:\\\\Users\\\\micro\\\\AppData\\\\Local\\\\Programs\\\\Python\\\\Launcher;C:\\\\Users\\\\micro\\\\AppData\\\\Local\\\\Microsoft\\\\WindowsApps;C:\\\\Users\\\\micro\\\\AppData\\\\Local\\\\Programs\\\\Microsoft VS Code\\\\bin;C:\\\\MinGW\\\\bin;.',\n",
       " 'PATHEXT': '.COM;.EXE;.BAT;.CMD;.VBS;.VBE;.JS;.JSE;.WSF;.WSH;.MSC',\n",
       " 'PROCESSOR_ARCHITECTURE': 'AMD64',\n",
       " 'PROCESSOR_IDENTIFIER': 'Intel64 Family 6 Model 140 Stepping 2, GenuineIntel',\n",
       " 'PROCESSOR_LEVEL': '6',\n",
       " 'PROCESSOR_REVISION': '8c02',\n",
       " 'PROGRAMDATA': 'C:\\\\ProgramData',\n",
       " 'PROGRAMFILES': 'C:\\\\Program Files',\n",
       " 'PROGRAMFILES(X86)': 'C:\\\\Program Files (x86)',\n",
       " 'PROGRAMW6432': 'C:\\\\Program Files',\n",
       " 'PROMPT': '(base) $P$G',\n",
       " 'PSMODULEPATH': 'C:\\\\Program Files\\\\WindowsPowerShell\\\\Modules;C:\\\\WINDOWS\\\\system32\\\\WindowsPowerShell\\\\v1.0\\\\Modules',\n",
       " 'PUBLIC': 'C:\\\\Users\\\\Public',\n",
       " 'PYDEVD_USE_FRAME_EVAL': 'NO',\n",
       " 'SESSIONNAME': 'Console',\n",
       " 'SSL_CERT_FILE': 'C:\\\\ProgramData\\\\anaconda3\\\\Library\\\\ssl\\\\cacert.pem',\n",
       " 'SYSTEMDRIVE': 'C:',\n",
       " 'SYSTEMROOT': 'C:\\\\WINDOWS',\n",
       " 'TEMP': 'C:\\\\Users\\\\micro\\\\AppData\\\\Local\\\\Temp',\n",
       " 'TMP': 'C:\\\\Users\\\\micro\\\\AppData\\\\Local\\\\Temp',\n",
       " 'USERDOMAIN': 'DESKTOP-MRO2VF5',\n",
       " 'USERDOMAIN_ROAMINGPROFILE': 'DESKTOP-MRO2VF5',\n",
       " 'USERNAME': 'Owner',\n",
       " 'USERPROFILE': 'C:\\\\Users\\\\micro',\n",
       " 'VBOX_MSI_INSTALL_PATH': 'C:\\\\Program Files\\\\Oracle\\\\VirtualBox\\\\',\n",
       " 'WINDIR': 'C:\\\\WINDOWS',\n",
       " 'ZES_ENABLE_SYSMAN': '1',\n",
       " '__CONDA_OPENSLL_CERT_FILE_SET': '\"1\"',\n",
       " '__PSLOCKDOWNPOLICY': '0',\n",
       " 'TERM': 'xterm-color',\n",
       " 'CLICOLOR': '1',\n",
       " 'FORCE_COLOR': '1',\n",
       " 'CLICOLOR_FORCE': '1',\n",
       " 'PAGER': 'cat',\n",
       " 'GIT_PAGER': 'cat',\n",
       " 'MPLBACKEND': 'module://matplotlib_inline.backend_inline'}"
      ]
     },
     "execution_count": 11,
     "metadata": {},
     "output_type": "execute_result"
    }
   ],
   "source": [
    "# example: List environmental variables\n",
    "%env"
   ]
  },
  {
   "cell_type": "code",
   "execution_count": 12,
   "id": "490a4ca1-6d9a-45a0-b084-3ca8dc491e49",
   "metadata": {},
   "outputs": [],
   "source": [
    "# add new environmental variable called MY_VAR:\n",
    "# env MY_VAR=Users/someuser"
   ]
  },
  {
   "cell_type": "code",
   "execution_count": 13,
   "id": "ae8b0d00-67fd-4b22-90d1-8c7eb8d82d22",
   "metadata": {},
   "outputs": [
    {
     "data": {
      "text/plain": [
       "'C:\\\\Program Files\\\\Java\\\\jdk-21'"
      ]
     },
     "execution_count": 13,
     "metadata": {},
     "output_type": "execute_result"
    }
   ],
   "source": [
    "# check specific environmental variable value\n",
    "%env JAVA_HOME"
   ]
  }
 ],
 "metadata": {
  "kernelspec": {
   "display_name": "Python 3 (ipykernel)",
   "language": "python",
   "name": "python3"
  },
  "language_info": {
   "codemirror_mode": {
    "name": "ipython",
    "version": 3
   },
   "file_extension": ".py",
   "mimetype": "text/x-python",
   "name": "python",
   "nbconvert_exporter": "python",
   "pygments_lexer": "ipython3",
   "version": "3.12.7"
  }
 },
 "nbformat": 4,
 "nbformat_minor": 5
}
