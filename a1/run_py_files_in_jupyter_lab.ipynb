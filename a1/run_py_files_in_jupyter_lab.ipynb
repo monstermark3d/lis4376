{
 "cells": [
  {
   "cell_type": "markdown",
   "id": "2d433056-0383-4377-9f1f-ff978ea9868c",
   "metadata": {},
   "source": [
    "# Run python files (.py) in Jupyter Lab\n",
    "\n",
    "## Run Jupyter Lab in directory containing .py files\n",
    "\n",
    "## Run cells with commands below."
   ]
  },
  {
   "cell_type": "code",
   "execution_count": null,
   "id": "f5646d7b-2a96-464e-a3ad-d39907d7317e",
   "metadata": {},
   "outputs": [],
   "source": [
    "# Note: Magic functions start with a percent sign (%) or double percent signs (%%)\n",
    "# single percent sign will act only on one line\n",
    "# double percent signs (%%) can spread over multiple lines, but do not support assignments\n",
    "\n",
    "# Also, see: https://ipython.readthedocs.io/en/stable/interactive/magics.html"
   ]
  },
  {
   "cell_type": "code",
   "execution_count": null,
   "id": "524bf909-4f24-47dd-9cf9-04b4cddd06d5",
   "metadata": {},
   "outputs": [],
   "source": [
    "# 1. %run (runs script as if executing from command line)\n",
    "# Create test.py file that prints Hellow World!, in same directory as this notebook\n",
    "%run test.py"
   ]
  },
  {
   "cell_type": "code",
   "execution_count": null,
   "id": "5e96cf53-f4f2-4dd2-8644-0cfe67b4411a",
   "metadata": {},
   "outputs": [],
   "source": [
    "# Note: Can also print timing -t, and run multiple times -N<N>\n",
    "# https://ipython.readthedocs.io/en/stable/interactive/magics.html#magic-run\n",
    "%run -t -N3 test.py"
   ]
  },
  {
   "cell_type": "code",
   "execution_count": null,
   "id": "6fe00ed2-e649-4d3e-bf94-f6b93726ebf0",
   "metadata": {},
   "outputs": [],
   "source": [
    "# 2. import:\n",
    "# combines two operations: searches for named module, then binds results of search to name in local scope\n",
    "# Note: Do *not* include .py extension!\n",
    "import test"
   ]
  },
  {
   "cell_type": "code",
   "execution_count": null,
   "id": "e351ab3e-3e94-40a1-a1c9-d013b12c3558",
   "metadata": {},
   "outputs": [],
   "source": [
    "# 3. %Load (load file contents into code cell - take out comment below)"
   ]
  },
  {
   "cell_type": "code",
   "execution_count": null,
   "id": "c0938161-4d54-4745-909d-507e783443c9",
   "metadata": {},
   "outputs": [],
   "source": [
    "# %load test.py"
   ]
  },
  {
   "cell_type": "markdown",
   "id": "a8beb494-aea9-4eb1-9ca5-891e0bf2e64a",
   "metadata": {},
   "source": [
    "## Demo: %%writefile (use cell below)\n",
    "\n",
    "#####    1. load file into cell below **(%load test.py)**\n",
    "#####    2. Make changes to cell, then run\n",
    "#####    3. Open file in text editor (Note: No changes to file!)\n",
    "#####    4. Place **%%writefile test.py** at top of loaded cell, **comment out %load**, then run again\n",
    "#####    5. Note: Changes now take place!\n",
    "\n",
    "##### **Note:** File will be overwriten unless -a(-append) flag is specified https://ipython.readthedocs.io/en/stable/interactive/magics.html"
   ]
  },
  {
   "cell_type": "code",
   "execution_count": null,
   "id": "851b7b17-8e71-4f3d-b00a-66c416a85e9f",
   "metadata": {},
   "outputs": [],
   "source": [
    "%%writefile test.py\n",
    "# %Load test.py\n",
    "print('Hello My World!')"
   ]
  },
  {
   "cell_type": "code",
   "execution_count": null,
   "id": "63d7cebb-cc81-4b1d-94a8-8c95f15ec403",
   "metadata": {},
   "outputs": [],
   "source": [
    "# ! (bang) operator accesses the underlying shell\n",
    "# Here, it calls emacs that is installed in the underlying shell\n",
    "!emacs demo.py\n",
    "# or, calling Windows Notepad...\n",
    "!notepad demo.py"
   ]
  }
 ],
 "metadata": {
  "kernelspec": {
   "display_name": "Python 3 (ipykernel)",
   "language": "python",
   "name": "python3"
  },
  "language_info": {
   "codemirror_mode": {
    "name": "ipython",
    "version": 3
   },
   "file_extension": ".py",
   "mimetype": "text/x-python",
   "name": "python",
   "nbconvert_exporter": "python",
   "pygments_lexer": "ipython3",
   "version": "3.12.7"
  }
 },
 "nbformat": 4,
 "nbformat_minor": 5
}
