{
 "cells": [
  {
   "cell_type": "markdown",
   "id": "bbafa9fb-85f2-4cb5-8ba3-f3ff8d70b01e",
   "metadata": {},
   "source": [
    "# Assignment 1 - Creating the Development Environment"
   ]
  },
  {
   "cell_type": "markdown",
   "id": "dc0db52d-3ff2-427f-8465-847a6938ebc4",
   "metadata": {},
   "source": [
    "## Paycheck Calculator\n",
    "\n",
    "**Developer:** Mark Trombly\n",
    "\n",
    "**Course:** LIS4376 - Artificial Intelligence Applications\n",
    "\n",
    "**Program requirements:**\n",
    "\n",
    "    1. Must use float data type for user input.\n",
    "    2. Must round calculations to two decimal places.\n",
    "    3. Must format currency with dollar sign, and two decimal places.\n",
    "\n",
    "**Resources:**\n",
    "\n",
    "    1. Federal income tax rates/brackets: https://www.irs.gov/filing/federal-income-tax-rates-and-brackets\n",
    "    2. Federal and FICA taxes (Florida - NO state income tax!)\n",
    "    3. Verify calculation:# https://smartasset.com/taxes/florida-paycheck-calculator"
   ]
  },
  {
   "cell_type": "code",
   "execution_count": null,
   "id": "ee1e8a1b-f53c-43ad-9692-dff6a2260a1e",
   "metadata": {},
   "outputs": [],
   "source": [
    "# IPO:\n",
    "# input:\n",
    "print(\"\\nUser Input:\")\n",
    "hours = float(input(\"Hours Worked: \"))\n",
    "hourly_rate = float(input(\"Hourly Rate: $\"))\n",
    "tax_rate = float(input(\"Tax Rate (percent): \"))"
   ]
  },
  {
   "cell_type": "code",
   "execution_count": null,
   "id": "78275dc0-8828-4789-b4fc-ededf2a3cdee",
   "metadata": {},
   "outputs": [],
   "source": [
    "# process:\n",
    "gross_pay = hours * hourly_rate\n",
    "tax_amount = gross_pay * (tax_rate / 100)\n",
    "net_pay = gross_pay - tax_amount"
   ]
  },
  {
   "cell_type": "code",
   "execution_count": null,
   "id": "2129de71-2103-45c7-8896-832ab3eb973f",
   "metadata": {},
   "outputs": [],
   "source": [
    "# output:\n",
    "# display results\n",
    "# Formatting:\n",
    "# NEW!: https://realpython.com/python-f-strings/\n",
    "# https://docs.python.org/3/library/string.html#format-specification-min-language\n",
    "# https://docs.python.org/3/library/string.html#formatexamples\n",
    "# https://mkaz.blog/code/python-string-format-cookbook/\n",
    "# Old style: https://docs.python.org/3/library/stdtypes.html#string-formatting\n",
    "print(\"\\nProgram Output:\")\n",
    "print(\"Gross Pay:\\t\", \"${0:,.2f}\".format(gross_pay))\n",
    "print(\"Tax Rate:\\t\", \"{0:.2%}\".format(tax_rate/100))\n",
    "print(\"Tax Amount:\\t\", \"${0:,.2f}\".format(tax_amount))\n",
    "print(\"Net Pay:\\t\", \"${0:,.2f}\".format(net_pay))"
   ]
  }
 ],
 "metadata": {
  "kernelspec": {
   "display_name": "Python 3 (ipykernel)",
   "language": "python",
   "name": "python3"
  },
  "language_info": {
   "codemirror_mode": {
    "name": "ipython",
    "version": 3
   },
   "file_extension": ".py",
   "mimetype": "text/x-python",
   "name": "python",
   "nbconvert_exporter": "python",
   "pygments_lexer": "ipython3",
   "version": "3.12.7"
  }
 },
 "nbformat": 4,
 "nbformat_minor": 5
}
