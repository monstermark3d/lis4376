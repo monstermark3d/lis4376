{
 "cells": [
  {
   "cell_type": "markdown",
   "id": "6eb1a916-9dfb-4276-a40c-fafd9315a9be",
   "metadata": {},
   "source": [
    "# Assignment 4 - Predictive Analysis (Simple Linear Regression)\n"
   ]
  },
  {
   "cell_type": "markdown",
   "id": "ca28570d-25e8-4675-9fd9-213115f76184",
   "metadata": {},
   "source": [
    "#### **Developer:** Mark Trombly\n",
    "#### **Course:** Artifical Intelligence Applications\n",
    "#### **Program Requirements**\n",
    "\n",
    "1. Contrast similarities/differencesamong AI vs. Machine-Learning vs. Deep-Learning\n",
    "2. Identify correlations\n",
    "3. Use Seaborn (data visualization library built on top of matplotlib)\n",
    "4. Graph correlations\n",
    "5. Use *simple* linear regression\n",
    "6. Create linear model\n",
    "7. Plot regression line\n",
    "8. Make predictions - using simple linear regression model\n",
    "9. Plot residuals"
   ]
  },
  {
   "cell_type": "markdown",
   "id": "8a312d36-d35a-4c34-92d8-7f8ad53dcb28",
   "metadata": {},
   "source": [
    "# Regression Analysis"
   ]
  },
  {
   "cell_type": "markdown",
   "id": "434681fc-69fb-4e99-9b80-a649f815cab6",
   "metadata": {},
   "source": [
    "# What is regression analysis?\n",
    "\n",
    "1. Equation predicts **\"unknown values\"** (i.e., *dependent variables*) based upon one or more **known values** (i.e., *independent variable(s))*.\n",
    "2. **Dependent variables (also called):** *response, outcmoe/output, or target* variables (respond to changes in (an)other variable(s))\n",
    "3. **Independent variables (also called):** *predictor, input, regressor, or explanatory* variable(s) (predict/explain changed values of dependent variable(s))\n",
    "4. **Goal:** Find the best fitting line which can accurately predict the output.\n",
    "\n",
    "*Dependent* variables (**output on y-axis**) are *always* the ones *beingstudied*--that is, whose variation(s) is/are being modified somehow!\n",
    "\n",
    "*Independent* variables (**input on x-axis**) are *always* the ones being manipulated, to study and compare the effects on the dependent variable(s).\n",
    "\n",
    "**Note:** The designations *independent* and *dependent* variables are used to not imply \"cause and effect\" (as do \"predictor\" or \"explanatory\" terms).\n",
    "\n",
    "**Note:** Based on the number of input and output variables, linear regression has three types:\n",
    "1. Simple linear regression (1 DV/1 IV)\n",
    "2. Multiple linear regression (1 DV/2 or more IVs)\n",
    "3. Multivariate linear regression (2 or more DVs/2 or more IVs)\n",
    "**Simple linear regression:** Only **one** *independent* variable affecting **one** *dependent* variable.\n",
    "**Multiple linear regression: Two or more** *independent* variables affecting **one** *dependent* variable.\n",
    "**Multivariate linear regression: Two or more** *independent* variables affecting **two or more* *dependent* variables."
   ]
  },
  {
   "cell_type": "markdown",
   "id": "dfe43de8-f166-4726-971a-b1130677835f",
   "metadata": {},
   "source": [
    "# Independent Variables vs. Dependent Variables\n"
   ]
  },
  {
   "cell_type": "markdown",
   "id": "fe8db2a2-743b-48b0-ad9c-7abbbbbfc153",
   "metadata": {},
   "source": [
    "### **Independent Variables (predictors):**\n",
    "- Can the variable(s) be maniplated or controlled?\n",
    "- Do(es) the variable(s) come before the other variable(s) chronologically?\n",
    "- Is/are the variables being used to see the affects on (an)other variable(s)?\n",
    "### **Dependent variables (outcomes):**\n",
    "- Is/are the variable(s) being used as (a) measured outcome(s)?\n",
    "- Do(es) the variable(s) depend upon an(other variable(s)?\n",
    "- Is/are this/these variabl(s) measured after (an)other variable(s) is/are modified?"
   ]
  },
  {
   "cell_type": "markdown",
   "id": "f6e1d6d3-7cf5-4920-84d9-6e222e2c520e",
   "metadata": {},
   "source": [
    "# Supervised vs. Unsupervised Learning\n",
    "- Supervised learning: prior knowledge of what output values for samples should be\n",
    "- Unsupervised learning, does not have labeled outputs. Goal is to infer natural structure present within a set of data points.\n",
    "**References:** https://www.ibm.com/cloud/blog/supervised-vs-unsupervised-learning\n",
    "  https://www.seldon.io/supervised-vs-unsupervised-learning-explained"
   ]
  },
  {
   "cell_type": "code",
   "execution_count": 1,
   "id": "42fdb7ac-4c08-4dc3-b475-fbcd31e1c2ca",
   "metadata": {},
   "outputs": [
    {
     "name": "stdout",
     "output_type": "stream",
     "text": [
      "3.9.21 (main, Dec 11 2024, 16:35:24) [MSC v.1929 64 bit (AMD64)]\n",
      "testenv\n"
     ]
    }
   ],
   "source": [
    "#1. import pandas and numpy libraries to perform mathematical functions\n",
    "import sys\n",
    "import os\n",
    "import numpy as np\n",
    "import pandas as pd\n",
    "print(sys.version) # print python version\n",
    "print(os.environ['CONDA_DEFAULT_ENV']) # print conda environment\n",
    "\n",
    "# Note: The following code *can* be used to suppress warnings (though, best just to fix them!).\n",
    "# import warnings\n",
    "# warnings.filterwarnings('ignore')"
   ]
  },
  {
   "cell_type": "markdown",
   "id": "5c2d7e54-14de-437e-b13f-1f8ac5a59400",
   "metadata": {},
   "source": [
    "# Get data - read cleaned .csv file"
   ]
  },
  {
   "cell_type": "code",
   "execution_count": 2,
   "id": "3f8c841c-07ee-475e-b64d-2529d4c33d0e",
   "metadata": {},
   "outputs": [
    {
     "data": {
      "text/html": [
       "<div>\n",
       "<style scoped>\n",
       "    .dataframe tbody tr th:only-of-type {\n",
       "        vertical-align: middle;\n",
       "    }\n",
       "\n",
       "    .dataframe tbody tr th {\n",
       "        vertical-align: top;\n",
       "    }\n",
       "\n",
       "    .dataframe thead th {\n",
       "        text-align: right;\n",
       "    }\n",
       "</style>\n",
       "<table border=\"1\" class=\"dataframe\">\n",
       "  <thead>\n",
       "    <tr style=\"text-align: right;\">\n",
       "      <th></th>\n",
       "      <th>TV</th>\n",
       "      <th>Radio</th>\n",
       "      <th>Newspaper</th>\n",
       "      <th>Sales</th>\n",
       "    </tr>\n",
       "  </thead>\n",
       "  <tbody>\n",
       "    <tr>\n",
       "      <th>0</th>\n",
       "      <td>230.1</td>\n",
       "      <td>37.8</td>\n",
       "      <td>69.2</td>\n",
       "      <td>22.1</td>\n",
       "    </tr>\n",
       "    <tr>\n",
       "      <th>1</th>\n",
       "      <td>44.5</td>\n",
       "      <td>39.3</td>\n",
       "      <td>45.1</td>\n",
       "      <td>10.4</td>\n",
       "    </tr>\n",
       "    <tr>\n",
       "      <th>2</th>\n",
       "      <td>17.2</td>\n",
       "      <td>45.9</td>\n",
       "      <td>69.3</td>\n",
       "      <td>12.0</td>\n",
       "    </tr>\n",
       "    <tr>\n",
       "      <th>3</th>\n",
       "      <td>151.5</td>\n",
       "      <td>41.3</td>\n",
       "      <td>58.5</td>\n",
       "      <td>16.5</td>\n",
       "    </tr>\n",
       "    <tr>\n",
       "      <th>4</th>\n",
       "      <td>180.8</td>\n",
       "      <td>10.8</td>\n",
       "      <td>58.4</td>\n",
       "      <td>17.9</td>\n",
       "    </tr>\n",
       "    <tr>\n",
       "      <th>...</th>\n",
       "      <td>...</td>\n",
       "      <td>...</td>\n",
       "      <td>...</td>\n",
       "      <td>...</td>\n",
       "    </tr>\n",
       "    <tr>\n",
       "      <th>195</th>\n",
       "      <td>38.2</td>\n",
       "      <td>3.7</td>\n",
       "      <td>13.8</td>\n",
       "      <td>7.6</td>\n",
       "    </tr>\n",
       "    <tr>\n",
       "      <th>196</th>\n",
       "      <td>94.2</td>\n",
       "      <td>4.9</td>\n",
       "      <td>8.1</td>\n",
       "      <td>14.0</td>\n",
       "    </tr>\n",
       "    <tr>\n",
       "      <th>197</th>\n",
       "      <td>177.0</td>\n",
       "      <td>9.3</td>\n",
       "      <td>6.4</td>\n",
       "      <td>14.8</td>\n",
       "    </tr>\n",
       "    <tr>\n",
       "      <th>198</th>\n",
       "      <td>283.6</td>\n",
       "      <td>42.0</td>\n",
       "      <td>66.2</td>\n",
       "      <td>25.5</td>\n",
       "    </tr>\n",
       "    <tr>\n",
       "      <th>199</th>\n",
       "      <td>232.1</td>\n",
       "      <td>8.6</td>\n",
       "      <td>8.7</td>\n",
       "      <td>18.4</td>\n",
       "    </tr>\n",
       "  </tbody>\n",
       "</table>\n",
       "<p>200 rows × 4 columns</p>\n",
       "</div>"
      ],
      "text/plain": [
       "        TV  Radio  Newspaper  Sales\n",
       "0    230.1   37.8       69.2   22.1\n",
       "1     44.5   39.3       45.1   10.4\n",
       "2     17.2   45.9       69.3   12.0\n",
       "3    151.5   41.3       58.5   16.5\n",
       "4    180.8   10.8       58.4   17.9\n",
       "..     ...    ...        ...    ...\n",
       "195   38.2    3.7       13.8    7.6\n",
       "196   94.2    4.9        8.1   14.0\n",
       "197  177.0    9.3        6.4   14.8\n",
       "198  283.6   42.0       66.2   25.5\n",
       "199  232.1    8.6        8.7   18.4\n",
       "\n",
       "[200 rows x 4 columns]"
      ]
     },
     "execution_count": 2,
     "metadata": {},
     "output_type": "execute_result"
    }
   ],
   "source": [
    "# 2. assign cleaned .csv file to \"advertising_data\" variable\n",
    "# Read given CSV file, and view some sample records\n",
    "\n",
    "# ***Note:*** ads in thousand $$$, Sales in million $$$\n",
    "advertising_data = pd.read_csv(\"my_company_data.csv\")\n",
    "\n",
    "# display first and last 5 records\n",
    "advertising_data"
   ]
  },
  {
   "cell_type": "markdown",
   "id": "6abdb2bc-4480-44fb-8a10-1af8fe35de57",
   "metadata": {},
   "source": [
    "# Analyze dataset"
   ]
  },
  {
   "cell_type": "code",
   "execution_count": 3,
   "id": "11a7cd6b-4867-4816-ab66-1038c423bbee",
   "metadata": {},
   "outputs": [
    {
     "data": {
      "text/plain": [
       "(200, 4)"
      ]
     },
     "execution_count": 3,
     "metadata": {},
     "output_type": "execute_result"
    }
   ],
   "source": [
    "# 3. print number of rows and columns\n",
    "advertising_data.shape"
   ]
  },
  {
   "cell_type": "code",
   "execution_count": 4,
   "id": "c12d4f1e-3bef-4a48-aca8-98cb904e2eae",
   "metadata": {},
   "outputs": [
    {
     "name": "stdout",
     "output_type": "stream",
     "text": [
      "<class 'pandas.core.frame.DataFrame'>\n",
      "RangeIndex: 200 entries, 0 to 199\n",
      "Data columns (total 4 columns):\n",
      " #   Column     Non-Null Count  Dtype  \n",
      "---  ------     --------------  -----  \n",
      " 0   TV         200 non-null    float64\n",
      " 1   Radio      200 non-null    float64\n",
      " 2   Newspaper  200 non-null    float64\n",
      " 3   Sales      200 non-null    float64\n",
      "dtypes: float64(4)\n",
      "memory usage: 6.4 KB\n"
     ]
    }
   ],
   "source": [
    "# 4. print dataframe info (Note: also, indicates null values, which, if present, would need to be remedied.)\n",
    "advertising_data.info()"
   ]
  },
  {
   "cell_type": "code",
   "execution_count": 5,
   "id": "10dd023d-f66a-4a3b-a910-69adeaecb9e6",
   "metadata": {},
   "outputs": [
    {
     "name": "stdout",
     "output_type": "stream",
     "text": [
      "          TV  Radio  Newspaper  Sales\n",
      "count 200.00 200.00     200.00 200.00\n",
      "mean  147.04  23.26      30.55  15.13\n",
      "std    85.85  14.85      21.78   5.28\n",
      "min     0.70   0.00       0.30   1.60\n",
      "25%    74.38   9.97      12.75  11.00\n",
      "50%   149.75  22.90      25.75  16.00\n",
      "75%   218.82  36.52      45.10  19.05\n",
      "max   296.40  49.60     114.00  27.00\n"
     ]
    }
   ],
   "source": [
    "# 5. print dataframe statistics summary\n",
    "advertising_data.describe()\n",
    "\n",
    "# format entire dataframe to two decimal places\n",
    "pd.options.display.float_format = \"{:,.2f}\".format\n",
    "\n",
    "print(advertising_data.describe())"
   ]
  },
  {
   "cell_type": "code",
   "execution_count": 6,
   "id": "67e622d2-2aab-4abb-81f2-2bf070770b49",
   "metadata": {},
   "outputs": [
    {
     "data": {
      "text/html": [
       "<div>\n",
       "<style scoped>\n",
       "    .dataframe tbody tr th:only-of-type {\n",
       "        vertical-align: middle;\n",
       "    }\n",
       "\n",
       "    .dataframe tbody tr th {\n",
       "        vertical-align: top;\n",
       "    }\n",
       "\n",
       "    .dataframe thead th {\n",
       "        text-align: right;\n",
       "    }\n",
       "</style>\n",
       "<table border=\"1\" class=\"dataframe\">\n",
       "  <thead>\n",
       "    <tr style=\"text-align: right;\">\n",
       "      <th></th>\n",
       "      <th>TV</th>\n",
       "      <th>Radio</th>\n",
       "      <th>Newspaper</th>\n",
       "      <th>Sales</th>\n",
       "    </tr>\n",
       "  </thead>\n",
       "  <tbody>\n",
       "    <tr>\n",
       "      <th>TV</th>\n",
       "      <td>1.00</td>\n",
       "      <td>0.05</td>\n",
       "      <td>0.06</td>\n",
       "      <td>0.90</td>\n",
       "    </tr>\n",
       "    <tr>\n",
       "      <th>Radio</th>\n",
       "      <td>0.05</td>\n",
       "      <td>1.00</td>\n",
       "      <td>0.35</td>\n",
       "      <td>0.35</td>\n",
       "    </tr>\n",
       "    <tr>\n",
       "      <th>Newspaper</th>\n",
       "      <td>0.06</td>\n",
       "      <td>0.35</td>\n",
       "      <td>1.00</td>\n",
       "      <td>0.16</td>\n",
       "    </tr>\n",
       "    <tr>\n",
       "      <th>Sales</th>\n",
       "      <td>0.90</td>\n",
       "      <td>0.35</td>\n",
       "      <td>0.16</td>\n",
       "      <td>1.00</td>\n",
       "    </tr>\n",
       "  </tbody>\n",
       "</table>\n",
       "</div>"
      ],
      "text/plain": [
       "            TV  Radio  Newspaper  Sales\n",
       "TV        1.00   0.05       0.06   0.90\n",
       "Radio     0.05   1.00       0.35   0.35\n",
       "Newspaper 0.06   0.35       1.00   0.16\n",
       "Sales     0.90   0.35       0.16   1.00"
      ]
     },
     "execution_count": 6,
     "metadata": {},
     "output_type": "execute_result"
    }
   ],
   "source": [
    "# 6. Display pairwies correlations of *all* columns in dataframe.\n",
    "advertising_data.corr().head()\n",
    "\n",
    "# Note: \"Perfect\" correlations (1.0) with same attributes (e.g., \"TV\" and \"TV\").\n",
    "# Note: High correlation between \"TV\" (ads) and \"Sales\"--much less for \"Radio\"!"
   ]
  },
  {
   "cell_type": "code",
   "execution_count": 7,
   "id": "e4e741e2-c07b-4eae-9b8f-fb0028518a38",
   "metadata": {},
   "outputs": [],
   "source": [
    "# 7. import matplotlib and seaborn libraries to visualize data\n",
    "# Note: Seaborn provides more visualization patterns, with less syntax than matplotlib\n",
    "import matplotlib.pyplot as plt\n",
    "import seaborn as sns"
   ]
  },
  {
   "cell_type": "code",
   "execution_count": 8,
   "id": "c9ed34e5-881b-444a-97c7-99fe90dbc4e9",
   "metadata": {},
   "outputs": [
    {
     "data": {
      "image/png": "[encoded data removed]",
      "text/plain": [
       "<Figure size 1200x400 with 3 Axes>"
      ]
     },
     "metadata": {},
     "output_type": "display_data"
    }
   ],
   "source": [
    "# 8. visualize data for correlations using pairplot(). y=DV(s), x=IV(s)\n",
    "# pairplot(): Plot pairwise relationships in dataset.\n",
    "# https://seaborn.pydata.org/generated/seaborn.pairplot.html\n",
    "# Note: scatter plot good when comparing two numeric vaiables, like here!\n",
    "sns.pairplot(advertising_data, x_vars=['TV', 'Radio', 'Newspaper'], y_vars='Sales', height=4, aspect=1, kind='scatter')\n",
    "plt.show()"
   ]
  },
  {
   "cell_type": "code",
   "execution_count": 9,
   "id": "4c83038d-8743-40af-aa2e-d00e2cd741c5",
   "metadata": {},
   "outputs": [
    {
     "data": {
      "text/html": [
       "<div>\n",
       "<style scoped>\n",
       "    .dataframe tbody tr th:only-of-type {\n",
       "        vertical-align: middle;\n",
       "    }\n",
       "\n",
       "    .dataframe tbody tr th {\n",
       "        vertical-align: top;\n",
       "    }\n",
       "\n",
       "    .dataframe thead th {\n",
       "        text-align: right;\n",
       "    }\n",
       "</style>\n",
       "<table border=\"1\" class=\"dataframe\">\n",
       "  <thead>\n",
       "    <tr style=\"text-align: right;\">\n",
       "      <th></th>\n",
       "      <th>Sales</th>\n",
       "    </tr>\n",
       "  </thead>\n",
       "  <tbody>\n",
       "    <tr>\n",
       "      <th>Sales</th>\n",
       "      <td>1.00</td>\n",
       "    </tr>\n",
       "    <tr>\n",
       "      <th>TV</th>\n",
       "      <td>0.90</td>\n",
       "    </tr>\n",
       "    <tr>\n",
       "      <th>Radio</th>\n",
       "      <td>0.35</td>\n",
       "    </tr>\n",
       "    <tr>\n",
       "      <th>Newspaper</th>\n",
       "      <td>0.16</td>\n",
       "    </tr>\n",
       "  </tbody>\n",
       "</table>\n",
       "</div>"
      ],
      "text/plain": [
       "           Sales\n",
       "Sales       1.00\n",
       "TV          0.90\n",
       "Radio       0.35\n",
       "Newspaper   0.16"
      ]
     },
     "execution_count": 9,
     "metadata": {},
     "output_type": "execute_result"
    }
   ],
   "source": [
    "# 9. Display one attribute's correlation (\"Sales\") to *all* other columns in dataframe, sorted in descending order by Sales.\n",
    "advertising_data.corr()[['Sales']].sort_values(by='Sales', ascending=False)"
   ]
  },
  {
   "cell_type": "code",
   "execution_count": 10,
   "id": "6c8de281-7315-4971-a85e-9e302f09ff51",
   "metadata": {},
   "outputs": [
    {
     "data": {
      "text/plain": [
       "<seaborn.axisgrid.FacetGrid at 0x16ed67c7fa0>"
      ]
     },
     "execution_count": 10,
     "metadata": {},
     "output_type": "execute_result"
    },
    {
     "data": {
      "image/png": "[encoded data removed]",
      "text/plain": [
       "<Figure size 500x500 with 1 Axes>"
      ]
     },
     "metadata": {},
     "output_type": "display_data"
    }
   ],
   "source": [
    "# 10. Focus on correlation between \"TV\" (ads) and \"Sales.\"\n",
    "sns.relplot(data=advertising_data, x='TV', y='Sales')\n",
    "\n",
    "# Note: Seaborn relational plot (relplot) visualises how variables relate to each other within a dataset.\n",
    "# Note: When looking for correlations, see if a line can be drawn through as many datapoints as possible."
   ]
  },
  {
   "cell_type": "code",
   "execution_count": 11,
   "id": "8c2c209b-e4fb-45cf-8227-36a8c6958488",
   "metadata": {},
   "outputs": [
    {
     "data": {
      "image/png": "[encoded data removed]",
      "text/plain": [
       "<Figure size 640x480 with 2 Axes>"
      ]
     },
     "metadata": {},
     "output_type": "display_data"
    }
   ],
   "source": [
    "# 11. Visually display correlations using Seaborn's heatmap() function.\n",
    "# https://seaborn.pydata.org/generated/seaborn.heatmap.html\n",
    "sns.heatmap(advertising_data.corr(), cmap=\"YlGnBu\", annot = True)\n",
    "plt.show()\n",
    "\n",
    "# Note: \"annot\" property set to \"True\" so that r-values are displayed in each cell.\n",
    "# Here, display color bar. To trun off: cbar=False (default True)."
   ]
  },
  {
   "cell_type": "code",
   "execution_count": 12,
   "id": "03229066-c956-466e-93f5-da8ebc9e8284",
   "metadata": {},
   "outputs": [
    {
     "data": {
      "text/plain": [
       "<Axes: >"
      ]
     },
     "execution_count": 12,
     "metadata": {},
     "output_type": "execute_result"
    },
    {
     "data": {
      "image/png": "[encoded data removed]",
      "text/plain": [
       "<Figure size 640x480 with 1 Axes>"
      ]
     },
     "metadata": {},
     "output_type": "display_data"
    }
   ],
   "source": [
    "# 12. Visually condense correlation of one variable to other variables.\n",
    "sns.heatmap(data=advertising_data.corr()[['Sales']].sort_values(by='Sales', ascending=False), annot=True, cmap='YlGnBu', cbar=False, fmt=f'.2f')\n",
    "\n",
    "# Note: \"annot\" property setto \"True\" so that r-values are displayed in each cell.\n",
    "# Here, hide the color bar here (cbar=False), as it is self-explanatory.\n",
    "# vmin and vmax parameters define data range that colormap covers\n",
    "# Also note, no vmin/vmax properties used--which automatically determines min/max values from data (also, provides greater color contrast).\n",
    "# Simply, if either wmin/vmax *not* provided, they default to minimum/maximum input values, respectively."
   ]
  },
  {
   "cell_type": "markdown",
   "id": "ac4a921b-b42d-4de8-a68b-65f6cf2e32a3",
   "metadata": {},
   "source": [
    "# Simple LInear Regression Steps\n",
    "1. Identify x (IV) and y (DV): x=TV, y=Sales\n",
    "2. Create Train and Test datasets\n",
    "3. Train model\n",
    "4. Evaluate model"
   ]
  },
  {
   "cell_type": "code",
   "execution_count": 13,
   "id": "0e797ad4-41ba-44dc-9862-505e1180527e",
   "metadata": {},
   "outputs": [],
   "source": [
    "# 13. Identify x (IV) and y (DV)\n",
    "x = advertising_data['TV']\n",
    "y = advertising_data['Sales']"
   ]
  },
  {
   "cell_type": "code",
   "execution_count": 14,
   "id": "3b6d10c3-c060-4084-ba27-a3546581ff9d",
   "metadata": {},
   "outputs": [],
   "source": [
    "# 14. Create train and test datasets\n",
    "# a. split variables into training and testing sets\n",
    "# b. build model using training set, then run model on testing set\n",
    "\n",
    "# Note: Training dataset used to *fit* te model, and test dataset is used to *evaluate* the model.\n",
    "# Training data is the biggest subset o *original* dataset--used to train or fit the model.\n",
    "# Test dataset is another subset of *original* data, independent of training dataset--validates model's accuracy.\n",
    "# https://www.javatpoint.com/train-and-test-datasets-in-machine-learning\n",
    "\n",
    "# split variables into train and test datasets into 7:3 ration, respectively, by importing train_test_split\n",
    "# Translation: 70% of observations for training, and remaining 30% for testing\n",
    "# train-test_split()\n",
    "# https://realpython.com/train-test-split-python-data/\n",
    "\n",
    "# random_state: controls randomization during splitting (default value None).\n",
    "# random_state value not import--can be any non-negative integer.\n",
    "# Generally, *only* used to make tests reproductible--provides fixed seed value.\n",
    "# https://numpy.org/doc/stabl/reference/random/legacy.html#numpy.random.RandomState\n",
    "from sklearn.model_selection import train_test_split\n",
    "x_train, x_test, y_train, y_test = train_test_split(x, y, train_size = 0.7, test_size = 0.3, random_state = 100)\n",
    "\n",
    "# Note: To date, there's no clear cut agreement on data split ratios, only common practices.\n",
    "# https://onlinelibrary.wiley.com/doi/10.1002/sam.11583\n",
    "# https://www.baeldung.com/cs/train-test-datasets-ratio"
   ]
  },
  {
   "cell_type": "markdown",
   "id": "746380d9-ba86-4d2c-8dde-4236a8c93da8",
   "metadata": {},
   "source": [
    "# Review train datasets after splitting"
   ]
  },
  {
   "cell_type": "code",
   "execution_count": 15,
   "id": "c79978d2-346c-4e80-9026-8b46a8b41abe",
   "metadata": {},
   "outputs": [
    {
     "data": {
      "text/plain": [
       "74    213.40\n",
       "3     151.50\n",
       "185   205.00\n",
       "26    142.90\n",
       "90    134.30\n",
       "       ...  \n",
       "87    110.70\n",
       "103   187.90\n",
       "67    139.30\n",
       "24     62.30\n",
       "8       8.60\n",
       "Name: TV, Length: 140, dtype: float64"
      ]
     },
     "execution_count": 15,
     "metadata": {},
     "output_type": "execute_result"
    }
   ],
   "source": [
    "# 15. Display x training dataset (IVs)\n",
    "x_train"
   ]
  },
  {
   "cell_type": "code",
   "execution_count": 16,
   "id": "8681ee40-007d-4866-911d-bb57c93a7dc6",
   "metadata": {},
   "outputs": [
    {
     "data": {
      "text/plain": [
       "74    17.00\n",
       "3     16.50\n",
       "185   22.60\n",
       "26    15.00\n",
       "90    14.00\n",
       "       ... \n",
       "87    16.00\n",
       "103   19.70\n",
       "67    13.40\n",
       "24     9.70\n",
       "8      4.80\n",
       "Name: Sales, Length: 140, dtype: float64"
      ]
     },
     "execution_count": 16,
     "metadata": {},
     "output_type": "execute_result"
    }
   ],
   "source": [
    "# 16. Display y training dataset\n",
    "y_train"
   ]
  },
  {
   "cell_type": "markdown",
   "id": "c267ffdb-b8af-4382-89a0-fc720dd2e1d0",
   "metadata": {},
   "source": [
    "**Add column to perform regression fit properly for simple linear regression:**"
   ]
  },
  {
   "cell_type": "code",
   "execution_count": 17,
   "id": "040ae86e-b07c-4431-a623-843f7d4a68f3",
   "metadata": {},
   "outputs": [
    {
     "name": "stdout",
     "output_type": "stream",
     "text": [
      "(140,)\n",
      "(60,)\n"
     ]
    }
   ],
   "source": [
    "# 17. Display shape for x train and test datasets, *before* adding column\n",
    "print(x_train.shape)\n",
    "print(x_test.shape)\n",
    "\n",
    "# Note: Array \"shape\" is number of elements in each dimension. (Here, 1 dimension array.)"
   ]
  },
  {
   "cell_type": "markdown",
   "id": "a1a7169a-a906-4506-9265-a7f01af7df28",
   "metadata": {},
   "source": [
    "# Prepare Model"
   ]
  },
  {
   "cell_type": "code",
   "execution_count": 18,
   "id": "c1c9f7fa-88e1-4042-adaa-8ecc07c71422",
   "metadata": {},
   "outputs": [
    {
     "name": "stdout",
     "output_type": "stream",
     "text": [
      "(140, 1)\n",
      "(60, 1)\n"
     ]
    }
   ],
   "source": [
    "# 18. add additional column to train and test datasets\n",
    "# By \"reshaping\" we can add or remove dimensions (i.e., change array \"shape.\")\n",
    "# https://www.w3schools.com/python/numpy/numpy_array_reshape.asp\n",
    "\n",
    "# reshape() concept: First, raveling array (using given index order),\n",
    "# then inserting/deleting elements from raveled array into new array, using same index order for raveling.\n",
    "# https://numpy.org/doc/stable/reference/generated/numpy.reshape.html\n",
    "\n",
    "# Here, reshape From 10D to 2-D\n",
    "x_train = x_train.values.reshape(-1,1)\n",
    "x_test = x_test.values.reshape(-1,1)\n",
    "\n",
    "# 19. display shape for x train and test data, *after* adding column (Now, 2 dimension array.)\n",
    "print(x_train.shape)\n",
    "print(x_test.shape)"
   ]
  },
  {
   "cell_type": "markdown",
   "id": "a0285b47-c3d3-4934-b9ff-cf015e6403d4",
   "metadata": {},
   "source": [
    "# Fitting model: Find best fitting line -- to accurately predict output"
   ]
  },
  {
   "cell_type": "code",
   "execution_count": 19,
   "id": "4785216f-556b-4b93-91a0-428e00a955dd",
   "metadata": {},
   "outputs": [],
   "source": [
    "# 20. fit regression line to plot\n",
    "from sklearn.linear_model import LinearRegression\n",
    "\n",
    "# Note: Can create linear regression model object (instantiation) and fit in two steps, or at the same time\n",
    "# 1. Instantiate linear regression model object\n",
    "# Lm = LinearRegression()\n",
    "\n",
    "# 2. fit model using fit() method\n",
    "# Lm.fit(x_train, y_train)\n",
    "\n",
    "# Or...both at same time...\n",
    "lm = LinearRegression().fit(x_train, y_train)\n",
    "\n",
    "# Note: fit() method accepts training datset and fits regression line to dataset."
   ]
  },
  {
   "cell_type": "markdown",
   "id": "b5b039f8-a32c-42db-8a74-d3ae6dc77107",
   "metadata": {},
   "source": [
    "# Intercepts and Slope - Why?"
   ]
  },
  {
   "cell_type": "code",
   "execution_count": 20,
   "id": "bd0ef45c-fb35-4260-874e-be0e98d3dd05",
   "metadata": {},
   "outputs": [
    {
     "name": "stdout",
     "output_type": "stream",
     "text": [
      "Intercept: 6.9486832000013585\n",
      "Slope: [0.05454575]\n"
     ]
    }
   ],
   "source": [
    "# print model coefficients\n",
    "\n",
    "# 21. print intercept value (aka the \"constant\"): Represents mean value of DV when all of IV(s) to model are equal to zero.\n",
    "# Note: Also known as \"y intercept.\" Simply, the value at which the fitted line (aka \"regression line\") crosses the y-axes.\n",
    "# https://www.statology.org/intercept-in-regression/\n",
    "\n",
    "print(\"Intercept:\", lm.intercept_)\n",
    "\n",
    "# 22. print slope value: Indicates how much DV expected to change, as IV(s) increase(s)/decrease(s).\n",
    "# https://www.dummies.com/article/academics-the-arts/math/statistics/how-to-interpret-a-regression-line-169717/\n",
    "\n",
    "print(\"Slope:\", lm.coef_)\n",
    "\n",
    "# Additionaly:\n",
    "# intercept (aka \"y-intercept\"): where line of best fit intersects y-axis. Represents initial condtion/starting point of data.\n",
    "# slope: represents change in y for any 1 unit chane in x.\n",
    "# https://study.com/learn/lesson/slope-intercept-linear-model-overview-interpretation-examples.html"
   ]
  },
  {
   "cell_type": "code",
   "execution_count": 21,
   "id": "13994f10-60f8-4ed5-bc9f-18c36d505e4a",
   "metadata": {},
   "outputs": [],
   "source": [
    "# 23. simple linear regression formula from above values\n",
    "# Y = mX + b\n",
    "# Y = DV, X = IV, m = estimated slope, b = estimated intercept\n",
    "\n",
    "# Note: parentheses not needed. (TV = TV ad $$$ spent.)\n",
    "# Sales = (0.054 * TV) + 6.948"
   ]
  },
  {
   "cell_type": "markdown",
   "id": "d8699134-4d02-4494-9aa2-4c6860a6306a",
   "metadata": {},
   "source": [
    "# r2 values - how well regression line approximates actual data\n",
    "- R2 also known as Coefficient of Determination.\n",
    "- R2 determines how good a linear fit exists between predictors and target variable.\n",
    "- Returns values between 0 and 1 (inclusive)--higher the value, better the model!"
   ]
  },
  {
   "cell_type": "code",
   "execution_count": 22,
   "id": "6b1d2979-4ca4-4f2e-8228-90e7a672c90e",
   "metadata": {},
   "outputs": [
    {
     "name": "stdout",
     "output_type": "stream",
     "text": [
      "r2 training score:  0.82\n",
      "r2 testing score:  0.79\n"
     ]
    }
   ],
   "source": [
    "# 24. predict v_value\n",
    "y_train_predict = lm.predict(x_train)\n",
    "y_test_predict = lm.predict(x_test)\n",
    "\n",
    "from sklearn.metrics import r2_score\n",
    "\n",
    "# 25. print and compare r2 values of both train and test data\n",
    "# print(\"r2 training score: \", r2_score(y_train,y_train_predict))\n",
    "# print(\"r2 testing score: \", r2_score(y_test,y_test_predict))\n",
    "\n",
    "# Or, formatted...\n",
    "print(\"{0:s} {1:.2f}\".format(\"r2 training score: \", r2_score(y_train,y_train_predict)))\n",
    "print(\"{0:s} {1:.2f}\".format(\"r2 testing score: \", r2_score(y_test,y_test_predict)))\n",
    "\n",
    "# Note: (r2): Statistical measure of how well regression line approximates actual data\n",
    "# Represents the proportion of variance for a DV that's explained by IV(s) in a regression model.\n",
    "# https://www.rasgoml.com/feature-engineering-tutorials/how-to-calculater-r-2-with-scikit-learn\n",
    "# https://towardsdatascience.com/simple-linear-regression-model-using-python-machine-learning-eab7924d18b4\n",
    "\n",
    "# Bottom-line: r2 values on test data within 5% of r2 values on training data. Model looks good!"
   ]
  },
  {
   "cell_type": "markdown",
   "id": "96768ed0-6c74-4a88-9db2-14a0b091b3cf",
   "metadata": {},
   "source": [
    "# Plot linear regression (using simple estimation)"
   ]
  },
  {
   "cell_type": "code",
   "execution_count": 25,
   "id": "fc854311-d611-464a-8b8b-cb39412ee4ac",
   "metadata": {},
   "outputs": [
    {
     "data": {
      "text/plain": [
       "<Axes: xlabel='TV', ylabel='Sales'>"
      ]
     },
     "execution_count": 25,
     "metadata": {},
     "output_type": "execute_result"
    },
    {
     "data": {
      "image/png": "[encoded data removed]",
      "text/plain": [
       "<Figure size 640x480 with 1 Axes>"
      ]
     },
     "metadata": {},
     "output_type": "display_data"
    }
   ],
   "source": [
    "# 26. Plot data and linear regression model fit.\n",
    "# Note: Goal of seaborn is to help find and emphasize patterns through qick and easy visualizations.\n",
    "# There are *MANY* was to find relationships and determine patterns. Provided here are *some* ways of doing so.\n",
    "# regplot(): https://seaborn.pydata.org/tutorial/regression.html#regression-tutorial\n",
    "\n",
    "# Note: Regression lines indicate a linear relationship between DV(s) on y-axis and IV(s) on x-axis.\n",
    "sns.regplot(data=advertising_data, x='TV', y='Sales', ci=95, scatter_kws={'s':5}, line_kws={\"lw\":1, 'color':'orange'})\n",
    "\n",
    "# scatter_kws changes dot size (avoids overplotting and/or aesthetics). Line_kws changes line color and width\n",
    "# https://stackoverflow.com/questions/53257382/what-do-scatter-kws-and-line-kws-do-in-seaborn-lmplot\n",
    "# https://eeob-biodagta.github.io/BCB546X-python/05-seaborn-viz/\n",
    "\n",
    "# ci (confidence interval used for regression estimate--None recommended\n",
    "# https://seaborn.pydata.org/generated/seaborn.lmplot.html\n",
    "\n",
    "# *However*, here, confidence interval of 95% used for demo purposes.\n",
    "# Note: Size of confidence interval for regression estimate--will be drawn using translucent bands around regression line.\n",
    "\n",
    "# Confidence interval: a range around a measuremnet that indicates the measurement's precision."
   ]
  },
  {
   "cell_type": "markdown",
   "id": "5550075e-c979-47d7-80e2-5c7ece7f9d47",
   "metadata": {},
   "source": [
    "# Plot residuals using Seaborn"
   ]
  },
  {
   "cell_type": "code",
   "execution_count": 27,
   "id": "a39eeecc-1788-4d70-8e61-c52be801f9a4",
   "metadata": {},
   "outputs": [
    {
     "data": {
      "text/plain": [
       "<Axes: xlabel='TV', ylabel='Sales'>"
      ]
     },
     "execution_count": 27,
     "metadata": {},
     "output_type": "execute_result"
    },
    {
     "data": {
      "image/png": "[encoded data removed]",
      "text/plain": [
       "<Figure size 640x480 with 1 Axes>"
      ]
     },
     "metadata": {},
     "output_type": "display_data"
    }
   ],
   "source": [
    "# 27. Residual plot: used to plot residuual values after plotting linear regressioin model.\n",
    "# What is a residual plot? Heps to identify regression model fit.\n",
    "# Note: \"residuals\" are simply differences between DV test values and DV predicted values.\n",
    "# Horizontal line indicates where predicted and actual values are the same.\n",
    "\n",
    "# Note: Dots above line indicate underestimating--that is, predicted sales too low for TV ads.\n",
    "# https://datagy.io/seaborn-residplot/\n",
    "\n",
    "# Lowess (aka \"LOESS\") Line stands for \"Locally estimated scatterplot smoothing, or LOESS.\"\n",
    "# Creates smooth line to help better understand relationship between variables and trends.\n",
    "# Essentially, fits line to scatter plot (or time plot) to more easily see a line of best fit.\n",
    "# https://www.statisticashowto.com/Lowess-smoothing/\n",
    "\n",
    "# Interpretation: Between ~$75k and !$215k will generate the most sales in proportion to TV ad $$$ spent.\n",
    "\n",
    "# Note: scatter_kws and line_kws used for optional keyword args. (\"kws\" = keywords)\n",
    "# Here, line_kwn: color of lowess line\n",
    "sns.residplot(data=advertising_data, x='TV', y='Sales', scatter_kws={'s':5}, lowess=True, line_kws={'color':'green'})\n",
    "\n",
    "# ***ABOVE ALL***: *Be sure* to do your *OWN* research, as well as play with the code and values provided to gain further insights!"
   ]
  },
  {
   "cell_type": "code",
   "execution_count": null,
   "id": "9014c2df-8db7-4def-b52d-9aa2aa755cbc",
   "metadata": {},
   "outputs": [],
   "source": []
  }
 ],
 "metadata": {
  "kernelspec": {
   "display_name": "Python 3 (ipykernel)",
   "language": "python",
   "name": "python3"
  },
  "language_info": {
   "codemirror_mode": {
    "name": "ipython",
    "version": 3
   },
   "file_extension": ".py",
   "mimetype": "text/x-python",
   "name": "python",
   "nbconvert_exporter": "python",
   "pygments_lexer": "ipython3",
   "version": "3.9.21"
  }
 },
 "nbformat": 4,
 "nbformat_minor": 5
}
